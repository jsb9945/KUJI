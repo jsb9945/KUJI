{
 "cells": [
  {
   "cell_type": "code",
   "execution_count": 1,
   "metadata": {},
   "outputs": [],
   "source": [
    "import numpy as np\n",
    "import pandas as pd\n",
    "import random as rnd\n",
    "\n",
    "%matplotlib inline\n",
    "import matplotlib.pyplot as plt\n",
    "\n",
    "train_df = pd.read_csv('C:/Users/Kong/Desktop/이지민/AI/심리_성향_예측_AI/train.csv')\n",
    "\n",
    "test_df = pd.read_csv('C:/Users/Kong/Desktop/이지민/AI/심리_성향_예측_AI/test_x.csv')"
   ]
  },
  {
   "cell_type": "markdown",
   "metadata": {},
   "source": [
    "< 범주형 데이터 전처리 >\n",
    "\n",
    "* 레이블 인코딩\n",
    "    - 범주형 값을 내림차순 정렬 후 0부터 1씩 증가하는 값으로 변환\n",
    "    - 숫자의 차이가 모델에 영향을 주지 않는 트리 계열 모델(의사결정나무, 랜덤포레스트)에 적용한다.\n",
    "    - 숫자의 차이가 모델에 영향을 미치는 선형 계열 모델(로지스틱회귀, svm, 신경망)에는 사용하면 안된다.\n",
    "    \n",
    "* 원핫 인코딩\n",
    "    - N개의 클래스를 N차원의 One-Hot 벡터로 표현되도록 변환\n",
    "        - 고유값들을 피처로 만들고 정답에 해당하는 열은 1로 나머지는 0으로 표시\n",
    "    - 숫자의 차이가 모델에 영향을 미치는 선형 계열 모델(로지스틱 회귀, svm, 신경망)에서 범주형 데이터 변환 시 사용"
   ]
  },
  {
   "cell_type": "markdown",
   "metadata": {},
   "source": [
    "< 연속형 데이터 전처리 >\n",
    "* 정규화\n",
    "    - 각 피처가 가지는 값들의 숫자 범위가 다를 경우 이 값의 범위를 일정한 범위로 맞추는 작업\n",
    "    - 트리 계열을 제외한 대부분의 머신러닝 알고리즘들이 피처의 스케일에 영향을 받는다\n",
    "        - 표준화 : 피처의 값들이 평균이 0이고 표준편차가 1인 범위에 있도록 변환\n",
    "        - MinMaxScaler : 데이터셋의 모든 값을 0과 1 사이의 값으로 변환"
   ]
  },
  {
   "cell_type": "markdown",
   "metadata": {},
   "source": [
    "참고 자료 : https://ysyblog.tistory.com/71"
   ]
  },
  {
   "cell_type": "code",
   "execution_count": 2,
   "metadata": {},
   "outputs": [
    {
     "data": {
      "text/html": [
       "<div>\n",
       "<style scoped>\n",
       "    .dataframe tbody tr th:only-of-type {\n",
       "        vertical-align: middle;\n",
       "    }\n",
       "\n",
       "    .dataframe tbody tr th {\n",
       "        vertical-align: top;\n",
       "    }\n",
       "\n",
       "    .dataframe thead th {\n",
       "        text-align: right;\n",
       "    }\n",
       "</style>\n",
       "<table border=\"1\" class=\"dataframe\">\n",
       "  <thead>\n",
       "    <tr style=\"text-align: right;\">\n",
       "      <th></th>\n",
       "      <th>age_group</th>\n",
       "      <th>gender</th>\n",
       "      <th>race</th>\n",
       "      <th>religion</th>\n",
       "    </tr>\n",
       "  </thead>\n",
       "  <tbody>\n",
       "    <tr>\n",
       "      <th>count</th>\n",
       "      <td>45532</td>\n",
       "      <td>45532</td>\n",
       "      <td>45532</td>\n",
       "      <td>45532</td>\n",
       "    </tr>\n",
       "    <tr>\n",
       "      <th>unique</th>\n",
       "      <td>7</td>\n",
       "      <td>2</td>\n",
       "      <td>7</td>\n",
       "      <td>12</td>\n",
       "    </tr>\n",
       "    <tr>\n",
       "      <th>top</th>\n",
       "      <td>10s</td>\n",
       "      <td>Male</td>\n",
       "      <td>White</td>\n",
       "      <td>Atheist</td>\n",
       "    </tr>\n",
       "    <tr>\n",
       "      <th>freq</th>\n",
       "      <td>14215</td>\n",
       "      <td>24217</td>\n",
       "      <td>31248</td>\n",
       "      <td>10192</td>\n",
       "    </tr>\n",
       "  </tbody>\n",
       "</table>\n",
       "</div>"
      ],
      "text/plain": [
       "       age_group gender   race religion\n",
       "count      45532  45532  45532    45532\n",
       "unique         7      2      7       12\n",
       "top          10s   Male  White  Atheist\n",
       "freq       14215  24217  31248    10192"
      ]
     },
     "execution_count": 2,
     "metadata": {},
     "output_type": "execute_result"
    }
   ],
   "source": [
    "train_df.describe(include=['O'])"
   ]
  },
  {
   "cell_type": "code",
   "execution_count": 3,
   "metadata": {},
   "outputs": [
    {
     "data": {
      "text/html": [
       "<div>\n",
       "<style scoped>\n",
       "    .dataframe tbody tr th:only-of-type {\n",
       "        vertical-align: middle;\n",
       "    }\n",
       "\n",
       "    .dataframe tbody tr th {\n",
       "        vertical-align: top;\n",
       "    }\n",
       "\n",
       "    .dataframe thead th {\n",
       "        text-align: right;\n",
       "    }\n",
       "</style>\n",
       "<table border=\"1\" class=\"dataframe\">\n",
       "  <thead>\n",
       "    <tr style=\"text-align: right;\">\n",
       "      <th></th>\n",
       "      <th>age_group</th>\n",
       "      <th>gender</th>\n",
       "      <th>race</th>\n",
       "      <th>religion</th>\n",
       "    </tr>\n",
       "  </thead>\n",
       "  <tbody>\n",
       "    <tr>\n",
       "      <th>count</th>\n",
       "      <td>11383</td>\n",
       "      <td>11383</td>\n",
       "      <td>11383</td>\n",
       "      <td>11383</td>\n",
       "    </tr>\n",
       "    <tr>\n",
       "      <th>unique</th>\n",
       "      <td>7</td>\n",
       "      <td>2</td>\n",
       "      <td>7</td>\n",
       "      <td>12</td>\n",
       "    </tr>\n",
       "    <tr>\n",
       "      <th>top</th>\n",
       "      <td>10s</td>\n",
       "      <td>Male</td>\n",
       "      <td>White</td>\n",
       "      <td>Atheist</td>\n",
       "    </tr>\n",
       "    <tr>\n",
       "      <th>freq</th>\n",
       "      <td>3603</td>\n",
       "      <td>6072</td>\n",
       "      <td>7918</td>\n",
       "      <td>2624</td>\n",
       "    </tr>\n",
       "  </tbody>\n",
       "</table>\n",
       "</div>"
      ],
      "text/plain": [
       "       age_group gender   race religion\n",
       "count      11383  11383  11383    11383\n",
       "unique         7      2      7       12\n",
       "top          10s   Male  White  Atheist\n",
       "freq        3603   6072   7918     2624"
      ]
     },
     "execution_count": 3,
     "metadata": {},
     "output_type": "execute_result"
    }
   ],
   "source": [
    "test_df.describe(include=['O'])"
   ]
  },
  {
   "cell_type": "code",
   "execution_count": 4,
   "metadata": {},
   "outputs": [],
   "source": [
    "train_df = train_df.drop(['index'], axis=1)"
   ]
  },
  {
   "cell_type": "markdown",
   "metadata": {},
   "source": [
    "### 누락된 데이터 다루기"
   ]
  },
  {
   "cell_type": "markdown",
   "metadata": {},
   "source": [
    "##### 누락된 값 식별"
   ]
  },
  {
   "cell_type": "code",
   "execution_count": 5,
   "metadata": {},
   "outputs": [
    {
     "data": {
      "text/plain": [
       "QaA      0\n",
       "QaE      0\n",
       "QbA      0\n",
       "QbE      0\n",
       "QcA      0\n",
       "        ..\n",
       "wr_09    0\n",
       "wr_10    0\n",
       "wr_11    0\n",
       "wr_12    0\n",
       "wr_13    0\n",
       "Length: 77, dtype: int64"
      ]
     },
     "execution_count": 5,
     "metadata": {},
     "output_type": "execute_result"
    }
   ],
   "source": [
    "train_df.isnull().sum()"
   ]
  },
  {
   "cell_type": "markdown",
   "metadata": {},
   "source": [
    "------------------------------------------------------\n",
    "\n",
    "\n",
    "\n",
    "## 범주형 데이터 전처리\n",
    "\n",
    "\n",
    "\n",
    "------------------------------------------------------"
   ]
  },
  {
   "cell_type": "markdown",
   "metadata": {},
   "source": [
    "* 현재의 범주형 데이터\n",
    "    - age_group\n",
    "    - gender\n",
    "    - race\n",
    "    - religion"
   ]
  },
  {
   "cell_type": "markdown",
   "metadata": {},
   "source": [
    "* 더미 변수 : 어떤 속성이 존재할 경우 그 값을 1로, 존재하지 않을 경우 그 값을 0으로 코딩한 인위적 변수를 의미\n",
    "    - 무엇이 더 중요한지 등이 나타나지 않는 변수를 전처리할 때 유용\n",
    "        - ex) 성별\n",
    "        \n",
    "        "
   ]
  },
  {
   "cell_type": "markdown",
   "metadata": {},
   "source": [
    "##### 성별을 dummy 변수로 만들어준다\n",
    "* One-Hot 인코딩"
   ]
  },
  {
   "cell_type": "markdown",
   "metadata": {},
   "source": [
    "* 순서가 없는 특성에 원-핫 인코딩 적용"
   ]
  },
  {
   "cell_type": "code",
   "execution_count": 6,
   "metadata": {},
   "outputs": [],
   "source": [
    "train_df = pd.get_dummies(train_df, columns = ['gender'])\n",
    "test_df = pd.get_dummies(test_df, columns = ['gender'])"
   ]
  },
  {
   "cell_type": "code",
   "execution_count": 7,
   "metadata": {},
   "outputs": [
    {
     "data": {
      "text/html": [
       "<div>\n",
       "<style scoped>\n",
       "    .dataframe tbody tr th:only-of-type {\n",
       "        vertical-align: middle;\n",
       "    }\n",
       "\n",
       "    .dataframe tbody tr th {\n",
       "        vertical-align: top;\n",
       "    }\n",
       "\n",
       "    .dataframe thead th {\n",
       "        text-align: right;\n",
       "    }\n",
       "</style>\n",
       "<table border=\"1\" class=\"dataframe\">\n",
       "  <thead>\n",
       "    <tr style=\"text-align: right;\">\n",
       "      <th></th>\n",
       "      <th>QaA</th>\n",
       "      <th>QaE</th>\n",
       "      <th>QbA</th>\n",
       "      <th>QbE</th>\n",
       "      <th>QcA</th>\n",
       "      <th>QcE</th>\n",
       "      <th>QdA</th>\n",
       "      <th>QdE</th>\n",
       "      <th>QeA</th>\n",
       "      <th>QeE</th>\n",
       "      <th>...</th>\n",
       "      <th>wr_06</th>\n",
       "      <th>wr_07</th>\n",
       "      <th>wr_08</th>\n",
       "      <th>wr_09</th>\n",
       "      <th>wr_10</th>\n",
       "      <th>wr_11</th>\n",
       "      <th>wr_12</th>\n",
       "      <th>wr_13</th>\n",
       "      <th>gender_Female</th>\n",
       "      <th>gender_Male</th>\n",
       "    </tr>\n",
       "  </thead>\n",
       "  <tbody>\n",
       "    <tr>\n",
       "      <th>0</th>\n",
       "      <td>3.0</td>\n",
       "      <td>363</td>\n",
       "      <td>4.0</td>\n",
       "      <td>1370</td>\n",
       "      <td>5.0</td>\n",
       "      <td>997</td>\n",
       "      <td>1.0</td>\n",
       "      <td>1024</td>\n",
       "      <td>2.0</td>\n",
       "      <td>1577</td>\n",
       "      <td>...</td>\n",
       "      <td>0</td>\n",
       "      <td>1</td>\n",
       "      <td>1</td>\n",
       "      <td>0</td>\n",
       "      <td>1</td>\n",
       "      <td>0</td>\n",
       "      <td>1</td>\n",
       "      <td>1</td>\n",
       "      <td>1</td>\n",
       "      <td>0</td>\n",
       "    </tr>\n",
       "    <tr>\n",
       "      <th>1</th>\n",
       "      <td>5.0</td>\n",
       "      <td>647</td>\n",
       "      <td>5.0</td>\n",
       "      <td>1313</td>\n",
       "      <td>3.0</td>\n",
       "      <td>3387</td>\n",
       "      <td>5.0</td>\n",
       "      <td>2969</td>\n",
       "      <td>1.0</td>\n",
       "      <td>4320</td>\n",
       "      <td>...</td>\n",
       "      <td>0</td>\n",
       "      <td>1</td>\n",
       "      <td>1</td>\n",
       "      <td>0</td>\n",
       "      <td>1</td>\n",
       "      <td>0</td>\n",
       "      <td>1</td>\n",
       "      <td>1</td>\n",
       "      <td>1</td>\n",
       "      <td>0</td>\n",
       "    </tr>\n",
       "    <tr>\n",
       "      <th>2</th>\n",
       "      <td>4.0</td>\n",
       "      <td>1623</td>\n",
       "      <td>1.0</td>\n",
       "      <td>1480</td>\n",
       "      <td>1.0</td>\n",
       "      <td>1021</td>\n",
       "      <td>4.0</td>\n",
       "      <td>3374</td>\n",
       "      <td>5.0</td>\n",
       "      <td>1333</td>\n",
       "      <td>...</td>\n",
       "      <td>0</td>\n",
       "      <td>1</td>\n",
       "      <td>1</td>\n",
       "      <td>1</td>\n",
       "      <td>1</td>\n",
       "      <td>0</td>\n",
       "      <td>1</td>\n",
       "      <td>1</td>\n",
       "      <td>0</td>\n",
       "      <td>1</td>\n",
       "    </tr>\n",
       "    <tr>\n",
       "      <th>3</th>\n",
       "      <td>3.0</td>\n",
       "      <td>504</td>\n",
       "      <td>3.0</td>\n",
       "      <td>2311</td>\n",
       "      <td>4.0</td>\n",
       "      <td>992</td>\n",
       "      <td>3.0</td>\n",
       "      <td>3245</td>\n",
       "      <td>1.0</td>\n",
       "      <td>357</td>\n",
       "      <td>...</td>\n",
       "      <td>0</td>\n",
       "      <td>0</td>\n",
       "      <td>1</td>\n",
       "      <td>0</td>\n",
       "      <td>1</td>\n",
       "      <td>0</td>\n",
       "      <td>1</td>\n",
       "      <td>1</td>\n",
       "      <td>1</td>\n",
       "      <td>0</td>\n",
       "    </tr>\n",
       "    <tr>\n",
       "      <th>4</th>\n",
       "      <td>1.0</td>\n",
       "      <td>927</td>\n",
       "      <td>1.0</td>\n",
       "      <td>707</td>\n",
       "      <td>5.0</td>\n",
       "      <td>556</td>\n",
       "      <td>2.0</td>\n",
       "      <td>1062</td>\n",
       "      <td>1.0</td>\n",
       "      <td>1014</td>\n",
       "      <td>...</td>\n",
       "      <td>1</td>\n",
       "      <td>1</td>\n",
       "      <td>1</td>\n",
       "      <td>0</td>\n",
       "      <td>1</td>\n",
       "      <td>1</td>\n",
       "      <td>1</td>\n",
       "      <td>1</td>\n",
       "      <td>0</td>\n",
       "      <td>1</td>\n",
       "    </tr>\n",
       "    <tr>\n",
       "      <th>...</th>\n",
       "      <td>...</td>\n",
       "      <td>...</td>\n",
       "      <td>...</td>\n",
       "      <td>...</td>\n",
       "      <td>...</td>\n",
       "      <td>...</td>\n",
       "      <td>...</td>\n",
       "      <td>...</td>\n",
       "      <td>...</td>\n",
       "      <td>...</td>\n",
       "      <td>...</td>\n",
       "      <td>...</td>\n",
       "      <td>...</td>\n",
       "      <td>...</td>\n",
       "      <td>...</td>\n",
       "      <td>...</td>\n",
       "      <td>...</td>\n",
       "      <td>...</td>\n",
       "      <td>...</td>\n",
       "      <td>...</td>\n",
       "      <td>...</td>\n",
       "    </tr>\n",
       "    <tr>\n",
       "      <th>45527</th>\n",
       "      <td>2.0</td>\n",
       "      <td>1050</td>\n",
       "      <td>5.0</td>\n",
       "      <td>619</td>\n",
       "      <td>4.0</td>\n",
       "      <td>328</td>\n",
       "      <td>1.0</td>\n",
       "      <td>285</td>\n",
       "      <td>1.0</td>\n",
       "      <td>602</td>\n",
       "      <td>...</td>\n",
       "      <td>0</td>\n",
       "      <td>1</td>\n",
       "      <td>1</td>\n",
       "      <td>1</td>\n",
       "      <td>1</td>\n",
       "      <td>0</td>\n",
       "      <td>1</td>\n",
       "      <td>1</td>\n",
       "      <td>1</td>\n",
       "      <td>0</td>\n",
       "    </tr>\n",
       "    <tr>\n",
       "      <th>45528</th>\n",
       "      <td>2.0</td>\n",
       "      <td>581</td>\n",
       "      <td>3.0</td>\n",
       "      <td>1353</td>\n",
       "      <td>4.0</td>\n",
       "      <td>1164</td>\n",
       "      <td>1.0</td>\n",
       "      <td>798</td>\n",
       "      <td>3.0</td>\n",
       "      <td>1680</td>\n",
       "      <td>...</td>\n",
       "      <td>0</td>\n",
       "      <td>1</td>\n",
       "      <td>1</td>\n",
       "      <td>1</td>\n",
       "      <td>1</td>\n",
       "      <td>0</td>\n",
       "      <td>1</td>\n",
       "      <td>1</td>\n",
       "      <td>0</td>\n",
       "      <td>1</td>\n",
       "    </tr>\n",
       "    <tr>\n",
       "      <th>45529</th>\n",
       "      <td>4.0</td>\n",
       "      <td>593</td>\n",
       "      <td>1.0</td>\n",
       "      <td>857</td>\n",
       "      <td>1.0</td>\n",
       "      <td>1047</td>\n",
       "      <td>4.0</td>\n",
       "      <td>1515</td>\n",
       "      <td>5.0</td>\n",
       "      <td>1690</td>\n",
       "      <td>...</td>\n",
       "      <td>0</td>\n",
       "      <td>1</td>\n",
       "      <td>1</td>\n",
       "      <td>0</td>\n",
       "      <td>1</td>\n",
       "      <td>0</td>\n",
       "      <td>1</td>\n",
       "      <td>1</td>\n",
       "      <td>1</td>\n",
       "      <td>0</td>\n",
       "    </tr>\n",
       "    <tr>\n",
       "      <th>45530</th>\n",
       "      <td>1.0</td>\n",
       "      <td>747</td>\n",
       "      <td>3.0</td>\n",
       "      <td>1331</td>\n",
       "      <td>4.0</td>\n",
       "      <td>892</td>\n",
       "      <td>2.0</td>\n",
       "      <td>1281</td>\n",
       "      <td>1.0</td>\n",
       "      <td>1328</td>\n",
       "      <td>...</td>\n",
       "      <td>0</td>\n",
       "      <td>1</td>\n",
       "      <td>1</td>\n",
       "      <td>1</td>\n",
       "      <td>1</td>\n",
       "      <td>0</td>\n",
       "      <td>1</td>\n",
       "      <td>1</td>\n",
       "      <td>0</td>\n",
       "      <td>1</td>\n",
       "    </tr>\n",
       "    <tr>\n",
       "      <th>45531</th>\n",
       "      <td>3.0</td>\n",
       "      <td>496</td>\n",
       "      <td>5.0</td>\n",
       "      <td>1827</td>\n",
       "      <td>5.0</td>\n",
       "      <td>754</td>\n",
       "      <td>3.0</td>\n",
       "      <td>1117</td>\n",
       "      <td>1.0</td>\n",
       "      <td>432</td>\n",
       "      <td>...</td>\n",
       "      <td>0</td>\n",
       "      <td>1</td>\n",
       "      <td>1</td>\n",
       "      <td>0</td>\n",
       "      <td>1</td>\n",
       "      <td>0</td>\n",
       "      <td>1</td>\n",
       "      <td>1</td>\n",
       "      <td>0</td>\n",
       "      <td>1</td>\n",
       "    </tr>\n",
       "  </tbody>\n",
       "</table>\n",
       "<p>45532 rows × 78 columns</p>\n",
       "</div>"
      ],
      "text/plain": [
       "       QaA   QaE  QbA   QbE  QcA   QcE  QdA   QdE  QeA   QeE  ...  wr_06  \\\n",
       "0      3.0   363  4.0  1370  5.0   997  1.0  1024  2.0  1577  ...      0   \n",
       "1      5.0   647  5.0  1313  3.0  3387  5.0  2969  1.0  4320  ...      0   \n",
       "2      4.0  1623  1.0  1480  1.0  1021  4.0  3374  5.0  1333  ...      0   \n",
       "3      3.0   504  3.0  2311  4.0   992  3.0  3245  1.0   357  ...      0   \n",
       "4      1.0   927  1.0   707  5.0   556  2.0  1062  1.0  1014  ...      1   \n",
       "...    ...   ...  ...   ...  ...   ...  ...   ...  ...   ...  ...    ...   \n",
       "45527  2.0  1050  5.0   619  4.0   328  1.0   285  1.0   602  ...      0   \n",
       "45528  2.0   581  3.0  1353  4.0  1164  1.0   798  3.0  1680  ...      0   \n",
       "45529  4.0   593  1.0   857  1.0  1047  4.0  1515  5.0  1690  ...      0   \n",
       "45530  1.0   747  3.0  1331  4.0   892  2.0  1281  1.0  1328  ...      0   \n",
       "45531  3.0   496  5.0  1827  5.0   754  3.0  1117  1.0   432  ...      0   \n",
       "\n",
       "       wr_07  wr_08  wr_09  wr_10  wr_11  wr_12  wr_13  gender_Female  \\\n",
       "0          1      1      0      1      0      1      1              1   \n",
       "1          1      1      0      1      0      1      1              1   \n",
       "2          1      1      1      1      0      1      1              0   \n",
       "3          0      1      0      1      0      1      1              1   \n",
       "4          1      1      0      1      1      1      1              0   \n",
       "...      ...    ...    ...    ...    ...    ...    ...            ...   \n",
       "45527      1      1      1      1      0      1      1              1   \n",
       "45528      1      1      1      1      0      1      1              0   \n",
       "45529      1      1      0      1      0      1      1              1   \n",
       "45530      1      1      1      1      0      1      1              0   \n",
       "45531      1      1      0      1      0      1      1              0   \n",
       "\n",
       "       gender_Male  \n",
       "0                0  \n",
       "1                0  \n",
       "2                1  \n",
       "3                0  \n",
       "4                1  \n",
       "...            ...  \n",
       "45527            0  \n",
       "45528            1  \n",
       "45529            0  \n",
       "45530            1  \n",
       "45531            1  \n",
       "\n",
       "[45532 rows x 78 columns]"
      ]
     },
     "execution_count": 7,
     "metadata": {},
     "output_type": "execute_result"
    }
   ],
   "source": [
    "train_df"
   ]
  },
  {
   "cell_type": "code",
   "execution_count": 8,
   "metadata": {},
   "outputs": [
    {
     "data": {
      "text/plain": [
       "array(['30s', '20s', '40s', '50s', '10s', '60s', '+70s'], dtype=object)"
      ]
     },
     "execution_count": 8,
     "metadata": {},
     "output_type": "execute_result"
    }
   ],
   "source": [
    "train_df['age_group'].unique()\n",
    "\n",
    "# unique()는 특정 컬럼의 유일한 값을 확인할 수 있음"
   ]
  },
  {
   "cell_type": "markdown",
   "metadata": {},
   "source": [
    "##### 데이터 파악하기\n",
    "\n",
    "* 상위 5개의 행 출력 : head()\n",
    "* 하위 5개의 행 출력 : tail()\n",
    "* 행, 열 개수 확인 : shape()\n",
    "* 전체 컬럼 출력 : columns\n",
    "* 특정 컬럼의 데이터 타입 확인 : dtype\n",
    "* 결측지 개수 파악 : isnull().sum()\n",
    "* 특정 컬럼의 유일한 값 확인 : unique()\n",
    "* 특정 컬럼의 유일 값의 개수 확인 : nunique()\n",
    "\n",
    "참고 자료 : https://bigdaheta.tistory.com/43"
   ]
  },
  {
   "cell_type": "markdown",
   "metadata": {},
   "source": [
    "##### 순서가 있는 매핑"
   ]
  },
  {
   "cell_type": "code",
   "execution_count": 9,
   "metadata": {},
   "outputs": [
    {
     "data": {
      "text/html": [
       "<div>\n",
       "<style scoped>\n",
       "    .dataframe tbody tr th:only-of-type {\n",
       "        vertical-align: middle;\n",
       "    }\n",
       "\n",
       "    .dataframe tbody tr th {\n",
       "        vertical-align: top;\n",
       "    }\n",
       "\n",
       "    .dataframe thead th {\n",
       "        text-align: right;\n",
       "    }\n",
       "</style>\n",
       "<table border=\"1\" class=\"dataframe\">\n",
       "  <thead>\n",
       "    <tr style=\"text-align: right;\">\n",
       "      <th></th>\n",
       "      <th>age_group</th>\n",
       "      <th>voted</th>\n",
       "    </tr>\n",
       "  </thead>\n",
       "  <tbody>\n",
       "    <tr>\n",
       "      <th>1</th>\n",
       "      <td>10s</td>\n",
       "      <td>1.837214</td>\n",
       "    </tr>\n",
       "    <tr>\n",
       "      <th>2</th>\n",
       "      <td>20s</td>\n",
       "      <td>1.469671</td>\n",
       "    </tr>\n",
       "    <tr>\n",
       "      <th>3</th>\n",
       "      <td>30s</td>\n",
       "      <td>1.411179</td>\n",
       "    </tr>\n",
       "    <tr>\n",
       "      <th>4</th>\n",
       "      <td>40s</td>\n",
       "      <td>1.357949</td>\n",
       "    </tr>\n",
       "    <tr>\n",
       "      <th>5</th>\n",
       "      <td>50s</td>\n",
       "      <td>1.329872</td>\n",
       "    </tr>\n",
       "    <tr>\n",
       "      <th>6</th>\n",
       "      <td>60s</td>\n",
       "      <td>1.271357</td>\n",
       "    </tr>\n",
       "    <tr>\n",
       "      <th>0</th>\n",
       "      <td>+70s</td>\n",
       "      <td>1.263830</td>\n",
       "    </tr>\n",
       "  </tbody>\n",
       "</table>\n",
       "</div>"
      ],
      "text/plain": [
       "  age_group     voted\n",
       "1       10s  1.837214\n",
       "2       20s  1.469671\n",
       "3       30s  1.411179\n",
       "4       40s  1.357949\n",
       "5       50s  1.329872\n",
       "6       60s  1.271357\n",
       "0      +70s  1.263830"
      ]
     },
     "execution_count": 9,
     "metadata": {},
     "output_type": "execute_result"
    }
   ],
   "source": [
    "train_df[['age_group', 'voted']].groupby(['age_group'], as_index=False).mean().sort_values(by='voted', ascending=False)"
   ]
  },
  {
   "cell_type": "code",
   "execution_count": 10,
   "metadata": {},
   "outputs": [],
   "source": [
    "age_group_mapping = {'30s' : 2, '20s' : 1, '40s' : 3, '50s' : 4, '10s' : 0, '60s' : 5, '+70s' : 6}\n",
    "\n",
    "train_df['age_group'] = train_df['age_group'].map(age_group_mapping)\n",
    "test_df['age_group'] = test_df['age_group'].map(age_group_mapping)"
   ]
  },
  {
   "cell_type": "code",
   "execution_count": 11,
   "metadata": {},
   "outputs": [
    {
     "data": {
      "text/html": [
       "<div>\n",
       "<style scoped>\n",
       "    .dataframe tbody tr th:only-of-type {\n",
       "        vertical-align: middle;\n",
       "    }\n",
       "\n",
       "    .dataframe tbody tr th {\n",
       "        vertical-align: top;\n",
       "    }\n",
       "\n",
       "    .dataframe thead th {\n",
       "        text-align: right;\n",
       "    }\n",
       "</style>\n",
       "<table border=\"1\" class=\"dataframe\">\n",
       "  <thead>\n",
       "    <tr style=\"text-align: right;\">\n",
       "      <th></th>\n",
       "      <th>race</th>\n",
       "      <th>religion</th>\n",
       "    </tr>\n",
       "  </thead>\n",
       "  <tbody>\n",
       "    <tr>\n",
       "      <th>count</th>\n",
       "      <td>45532</td>\n",
       "      <td>45532</td>\n",
       "    </tr>\n",
       "    <tr>\n",
       "      <th>unique</th>\n",
       "      <td>7</td>\n",
       "      <td>12</td>\n",
       "    </tr>\n",
       "    <tr>\n",
       "      <th>top</th>\n",
       "      <td>White</td>\n",
       "      <td>Atheist</td>\n",
       "    </tr>\n",
       "    <tr>\n",
       "      <th>freq</th>\n",
       "      <td>31248</td>\n",
       "      <td>10192</td>\n",
       "    </tr>\n",
       "  </tbody>\n",
       "</table>\n",
       "</div>"
      ],
      "text/plain": [
       "         race religion\n",
       "count   45532    45532\n",
       "unique      7       12\n",
       "top     White  Atheist\n",
       "freq    31248    10192"
      ]
     },
     "execution_count": 11,
     "metadata": {},
     "output_type": "execute_result"
    }
   ],
   "source": [
    "train_df.describe(include=['O'])"
   ]
  },
  {
   "cell_type": "code",
   "execution_count": 12,
   "metadata": {},
   "outputs": [
    {
     "data": {
      "text/html": [
       "<div>\n",
       "<style scoped>\n",
       "    .dataframe tbody tr th:only-of-type {\n",
       "        vertical-align: middle;\n",
       "    }\n",
       "\n",
       "    .dataframe tbody tr th {\n",
       "        vertical-align: top;\n",
       "    }\n",
       "\n",
       "    .dataframe thead th {\n",
       "        text-align: right;\n",
       "    }\n",
       "</style>\n",
       "<table border=\"1\" class=\"dataframe\">\n",
       "  <thead>\n",
       "    <tr style=\"text-align: right;\">\n",
       "      <th></th>\n",
       "      <th>race</th>\n",
       "      <th>religion</th>\n",
       "    </tr>\n",
       "  </thead>\n",
       "  <tbody>\n",
       "    <tr>\n",
       "      <th>count</th>\n",
       "      <td>11383</td>\n",
       "      <td>11383</td>\n",
       "    </tr>\n",
       "    <tr>\n",
       "      <th>unique</th>\n",
       "      <td>7</td>\n",
       "      <td>12</td>\n",
       "    </tr>\n",
       "    <tr>\n",
       "      <th>top</th>\n",
       "      <td>White</td>\n",
       "      <td>Atheist</td>\n",
       "    </tr>\n",
       "    <tr>\n",
       "      <th>freq</th>\n",
       "      <td>7918</td>\n",
       "      <td>2624</td>\n",
       "    </tr>\n",
       "  </tbody>\n",
       "</table>\n",
       "</div>"
      ],
      "text/plain": [
       "         race religion\n",
       "count   11383    11383\n",
       "unique      7       12\n",
       "top     White  Atheist\n",
       "freq     7918     2624"
      ]
     },
     "execution_count": 12,
     "metadata": {},
     "output_type": "execute_result"
    }
   ],
   "source": [
    "test_df.describe(include=['O'])"
   ]
  },
  {
   "cell_type": "code",
   "execution_count": 13,
   "metadata": {},
   "outputs": [
    {
     "data": {
      "text/plain": [
       "array([2, 1, 3, 4, 0, 5, 6], dtype=int64)"
      ]
     },
     "execution_count": 13,
     "metadata": {},
     "output_type": "execute_result"
    }
   ],
   "source": [
    "train_df['age_group'].unique()"
   ]
  },
  {
   "cell_type": "code",
   "execution_count": 14,
   "metadata": {},
   "outputs": [
    {
     "data": {
      "text/html": [
       "<div>\n",
       "<style scoped>\n",
       "    .dataframe tbody tr th:only-of-type {\n",
       "        vertical-align: middle;\n",
       "    }\n",
       "\n",
       "    .dataframe tbody tr th {\n",
       "        vertical-align: top;\n",
       "    }\n",
       "\n",
       "    .dataframe thead th {\n",
       "        text-align: right;\n",
       "    }\n",
       "</style>\n",
       "<table border=\"1\" class=\"dataframe\">\n",
       "  <thead>\n",
       "    <tr style=\"text-align: right;\">\n",
       "      <th></th>\n",
       "      <th>age_group</th>\n",
       "      <th>voted</th>\n",
       "    </tr>\n",
       "  </thead>\n",
       "  <tbody>\n",
       "    <tr>\n",
       "      <th>0</th>\n",
       "      <td>0</td>\n",
       "      <td>1.837214</td>\n",
       "    </tr>\n",
       "    <tr>\n",
       "      <th>1</th>\n",
       "      <td>1</td>\n",
       "      <td>1.469671</td>\n",
       "    </tr>\n",
       "    <tr>\n",
       "      <th>2</th>\n",
       "      <td>2</td>\n",
       "      <td>1.411179</td>\n",
       "    </tr>\n",
       "    <tr>\n",
       "      <th>3</th>\n",
       "      <td>3</td>\n",
       "      <td>1.357949</td>\n",
       "    </tr>\n",
       "    <tr>\n",
       "      <th>4</th>\n",
       "      <td>4</td>\n",
       "      <td>1.329872</td>\n",
       "    </tr>\n",
       "    <tr>\n",
       "      <th>5</th>\n",
       "      <td>5</td>\n",
       "      <td>1.271357</td>\n",
       "    </tr>\n",
       "    <tr>\n",
       "      <th>6</th>\n",
       "      <td>6</td>\n",
       "      <td>1.263830</td>\n",
       "    </tr>\n",
       "  </tbody>\n",
       "</table>\n",
       "</div>"
      ],
      "text/plain": [
       "   age_group     voted\n",
       "0          0  1.837214\n",
       "1          1  1.469671\n",
       "2          2  1.411179\n",
       "3          3  1.357949\n",
       "4          4  1.329872\n",
       "5          5  1.271357\n",
       "6          6  1.263830"
      ]
     },
     "execution_count": 14,
     "metadata": {},
     "output_type": "execute_result"
    }
   ],
   "source": [
    "train_df[['age_group', 'voted']].groupby(['age_group'], as_index=False).mean().sort_values(by='voted', ascending=False)"
   ]
  },
  {
   "cell_type": "code",
   "execution_count": 15,
   "metadata": {},
   "outputs": [
    {
     "data": {
      "text/plain": [
       "array(['White', 'Asian', 'Other', 'Black', 'Native American', 'Arab',\n",
       "       'Indigenous Australian'], dtype=object)"
      ]
     },
     "execution_count": 15,
     "metadata": {},
     "output_type": "execute_result"
    }
   ],
   "source": [
    "train_df['race'].unique()"
   ]
  },
  {
   "cell_type": "code",
   "execution_count": 16,
   "metadata": {},
   "outputs": [
    {
     "data": {
      "text/html": [
       "<div>\n",
       "<style scoped>\n",
       "    .dataframe tbody tr th:only-of-type {\n",
       "        vertical-align: middle;\n",
       "    }\n",
       "\n",
       "    .dataframe tbody tr th {\n",
       "        vertical-align: top;\n",
       "    }\n",
       "\n",
       "    .dataframe thead th {\n",
       "        text-align: right;\n",
       "    }\n",
       "</style>\n",
       "<table border=\"1\" class=\"dataframe\">\n",
       "  <thead>\n",
       "    <tr style=\"text-align: right;\">\n",
       "      <th></th>\n",
       "      <th>race</th>\n",
       "      <th>voted</th>\n",
       "    </tr>\n",
       "  </thead>\n",
       "  <tbody>\n",
       "    <tr>\n",
       "      <th>0</th>\n",
       "      <td>Arab</td>\n",
       "      <td>1.709402</td>\n",
       "    </tr>\n",
       "    <tr>\n",
       "      <th>1</th>\n",
       "      <td>Asian</td>\n",
       "      <td>1.704565</td>\n",
       "    </tr>\n",
       "    <tr>\n",
       "      <th>5</th>\n",
       "      <td>Other</td>\n",
       "      <td>1.622402</td>\n",
       "    </tr>\n",
       "    <tr>\n",
       "      <th>2</th>\n",
       "      <td>Black</td>\n",
       "      <td>1.597786</td>\n",
       "    </tr>\n",
       "    <tr>\n",
       "      <th>4</th>\n",
       "      <td>Native American</td>\n",
       "      <td>1.587591</td>\n",
       "    </tr>\n",
       "    <tr>\n",
       "      <th>3</th>\n",
       "      <td>Indigenous Australian</td>\n",
       "      <td>1.547170</td>\n",
       "    </tr>\n",
       "    <tr>\n",
       "      <th>6</th>\n",
       "      <td>White</td>\n",
       "      <td>1.495776</td>\n",
       "    </tr>\n",
       "  </tbody>\n",
       "</table>\n",
       "</div>"
      ],
      "text/plain": [
       "                    race     voted\n",
       "0                   Arab  1.709402\n",
       "1                  Asian  1.704565\n",
       "5                  Other  1.622402\n",
       "2                  Black  1.597786\n",
       "4        Native American  1.587591\n",
       "3  Indigenous Australian  1.547170\n",
       "6                  White  1.495776"
      ]
     },
     "execution_count": 16,
     "metadata": {},
     "output_type": "execute_result"
    }
   ],
   "source": [
    "train_df[['race', 'voted']].groupby(['race'], as_index=False\n",
    "                                   ).mean().sort_values(by='voted', ascending=False)"
   ]
  },
  {
   "cell_type": "code",
   "execution_count": 17,
   "metadata": {},
   "outputs": [],
   "source": [
    "race_mapping = {'White': 6, 'Asian' : 1, 'Other' : 2, 'Black' : 3, 'Native American' : 4, 'Arab' : 0,'Indigenous Australian' : 5}\n",
    "\n",
    "train_df['race'] = train_df['race'].map(race_mapping)\n",
    "test_df['race'] = test_df['race'].map(race_mapping)"
   ]
  },
  {
   "cell_type": "code",
   "execution_count": 18,
   "metadata": {},
   "outputs": [
    {
     "data": {
      "text/plain": [
       "array([6, 1, 2, 3, 4, 0, 5], dtype=int64)"
      ]
     },
     "execution_count": 18,
     "metadata": {},
     "output_type": "execute_result"
    }
   ],
   "source": [
    "train_df['race'].unique()"
   ]
  },
  {
   "cell_type": "code",
   "execution_count": 19,
   "metadata": {},
   "outputs": [
    {
     "data": {
      "text/plain": [
       "array(['Other', 'Hindu', 'Agnostic', 'Atheist', 'Christian_Other',\n",
       "       'Christian_Catholic', 'Muslim', 'Buddhist', 'Christian_Protestant',\n",
       "       'Jewish', 'Christian_Mormon', 'Sikh'], dtype=object)"
      ]
     },
     "execution_count": 19,
     "metadata": {},
     "output_type": "execute_result"
    }
   ],
   "source": [
    "train_df['religion'].unique()"
   ]
  },
  {
   "cell_type": "code",
   "execution_count": 20,
   "metadata": {},
   "outputs": [
    {
     "data": {
      "text/html": [
       "<div>\n",
       "<style scoped>\n",
       "    .dataframe tbody tr th:only-of-type {\n",
       "        vertical-align: middle;\n",
       "    }\n",
       "\n",
       "    .dataframe tbody tr th {\n",
       "        vertical-align: top;\n",
       "    }\n",
       "\n",
       "    .dataframe thead th {\n",
       "        text-align: right;\n",
       "    }\n",
       "</style>\n",
       "<table border=\"1\" class=\"dataframe\">\n",
       "  <thead>\n",
       "    <tr style=\"text-align: right;\">\n",
       "      <th></th>\n",
       "      <th>religion</th>\n",
       "      <th>voted</th>\n",
       "    </tr>\n",
       "  </thead>\n",
       "  <tbody>\n",
       "    <tr>\n",
       "      <th>9</th>\n",
       "      <td>Muslim</td>\n",
       "      <td>1.687081</td>\n",
       "    </tr>\n",
       "    <tr>\n",
       "      <th>11</th>\n",
       "      <td>Sikh</td>\n",
       "      <td>1.641026</td>\n",
       "    </tr>\n",
       "    <tr>\n",
       "      <th>2</th>\n",
       "      <td>Buddhist</td>\n",
       "      <td>1.621176</td>\n",
       "    </tr>\n",
       "    <tr>\n",
       "      <th>4</th>\n",
       "      <td>Christian_Mormon</td>\n",
       "      <td>1.619159</td>\n",
       "    </tr>\n",
       "    <tr>\n",
       "      <th>7</th>\n",
       "      <td>Hindu</td>\n",
       "      <td>1.613016</td>\n",
       "    </tr>\n",
       "    <tr>\n",
       "      <th>10</th>\n",
       "      <td>Other</td>\n",
       "      <td>1.582809</td>\n",
       "    </tr>\n",
       "    <tr>\n",
       "      <th>1</th>\n",
       "      <td>Atheist</td>\n",
       "      <td>1.572704</td>\n",
       "    </tr>\n",
       "    <tr>\n",
       "      <th>0</th>\n",
       "      <td>Agnostic</td>\n",
       "      <td>1.542602</td>\n",
       "    </tr>\n",
       "    <tr>\n",
       "      <th>5</th>\n",
       "      <td>Christian_Other</td>\n",
       "      <td>1.539615</td>\n",
       "    </tr>\n",
       "    <tr>\n",
       "      <th>3</th>\n",
       "      <td>Christian_Catholic</td>\n",
       "      <td>1.526512</td>\n",
       "    </tr>\n",
       "    <tr>\n",
       "      <th>8</th>\n",
       "      <td>Jewish</td>\n",
       "      <td>1.449692</td>\n",
       "    </tr>\n",
       "    <tr>\n",
       "      <th>6</th>\n",
       "      <td>Christian_Protestant</td>\n",
       "      <td>1.434667</td>\n",
       "    </tr>\n",
       "  </tbody>\n",
       "</table>\n",
       "</div>"
      ],
      "text/plain": [
       "                religion     voted\n",
       "9                 Muslim  1.687081\n",
       "11                  Sikh  1.641026\n",
       "2               Buddhist  1.621176\n",
       "4       Christian_Mormon  1.619159\n",
       "7                  Hindu  1.613016\n",
       "10                 Other  1.582809\n",
       "1                Atheist  1.572704\n",
       "0               Agnostic  1.542602\n",
       "5        Christian_Other  1.539615\n",
       "3     Christian_Catholic  1.526512\n",
       "8                 Jewish  1.449692\n",
       "6   Christian_Protestant  1.434667"
      ]
     },
     "execution_count": 20,
     "metadata": {},
     "output_type": "execute_result"
    }
   ],
   "source": [
    "train_df[['religion', 'voted']].groupby(['religion'], as_index=False).mean().sort_values(by='voted', ascending=False)"
   ]
  },
  {
   "cell_type": "code",
   "execution_count": 21,
   "metadata": {},
   "outputs": [],
   "source": [
    "religion_mapping = {'Other' : 5, 'Hindu' : 4, 'Agnostic' : 7, 'Atheist' : 6, 'Christian_Other' : 8,\n",
    "       'Christian_Catholic' : 9, 'Muslim' : 0, 'Buddhist' : 2, 'Christian_Protestant' : 11,\n",
    "       'Jewish' : 10, 'Christian_Mormon' : 3, 'Sikh' : 1}\n",
    "\n",
    "train_df['religion'] = train_df['religion'].map(religion_mapping)\n",
    "test_df['religion'] = test_df['religion'].map(religion_mapping)"
   ]
  },
  {
   "cell_type": "code",
   "execution_count": 22,
   "metadata": {},
   "outputs": [
    {
     "data": {
      "text/plain": [
       "array([ 5,  4,  7,  6,  8,  9,  0,  2, 11, 10,  3,  1], dtype=int64)"
      ]
     },
     "execution_count": 22,
     "metadata": {},
     "output_type": "execute_result"
    }
   ],
   "source": [
    "train_df['religion'].unique()"
   ]
  },
  {
   "cell_type": "markdown",
   "metadata": {},
   "source": [
    "----------------------------------------------------\n",
    "\n",
    "\n",
    "## 연속형 데이터 전처리\n",
    "\n",
    "\n",
    "----------------------------------------------------"
   ]
  },
  {
   "cell_type": "markdown",
   "metadata": {},
   "source": [
    "\n",
    "* 표준화 사용"
   ]
  },
  {
   "cell_type": "code",
   "execution_count": 23,
   "metadata": {},
   "outputs": [],
   "source": [
    "from sklearn.preprocessing import StandardScaler\n",
    "import matplotlib.pyplot as plt\n",
    "import seaborn as sns"
   ]
  },
  {
   "cell_type": "code",
   "execution_count": 24,
   "metadata": {},
   "outputs": [
    {
     "data": {
      "text/plain": [
       "\"plt.figure(figsize = (12,12))\\n# 그래프의 크기 결정\\n\\nsns.heatmap(train_df.corr(), linewidths=0.1, vmax=0.5, cmap=plt.cm.gist_heat, linecolor='white', annot=True)\\nplt.show()\""
      ]
     },
     "execution_count": 24,
     "metadata": {},
     "output_type": "execute_result"
    }
   ],
   "source": [
    "\"\"\"plt.figure(figsize = (12,12))\n",
    "# 그래프의 크기 결정\n",
    "\n",
    "sns.heatmap(train_df.corr(), linewidths=0.1, vmax=0.5, cmap=plt.cm.gist_heat, linecolor='white', annot=True)\n",
    "plt.show()\"\"\""
   ]
  },
  {
   "cell_type": "code",
   "execution_count": 25,
   "metadata": {},
   "outputs": [
    {
     "data": {
      "text/html": [
       "<div>\n",
       "<style scoped>\n",
       "    .dataframe tbody tr th:only-of-type {\n",
       "        vertical-align: middle;\n",
       "    }\n",
       "\n",
       "    .dataframe tbody tr th {\n",
       "        vertical-align: top;\n",
       "    }\n",
       "\n",
       "    .dataframe thead th {\n",
       "        text-align: right;\n",
       "    }\n",
       "</style>\n",
       "<table border=\"1\" class=\"dataframe\">\n",
       "  <thead>\n",
       "    <tr style=\"text-align: right;\">\n",
       "      <th></th>\n",
       "      <th>education</th>\n",
       "      <th>voted</th>\n",
       "    </tr>\n",
       "  </thead>\n",
       "  <tbody>\n",
       "    <tr>\n",
       "      <th>1</th>\n",
       "      <td>1</td>\n",
       "      <td>1.950275</td>\n",
       "    </tr>\n",
       "    <tr>\n",
       "      <th>2</th>\n",
       "      <td>2</td>\n",
       "      <td>1.632967</td>\n",
       "    </tr>\n",
       "    <tr>\n",
       "      <th>0</th>\n",
       "      <td>0</td>\n",
       "      <td>1.522727</td>\n",
       "    </tr>\n",
       "    <tr>\n",
       "      <th>3</th>\n",
       "      <td>3</td>\n",
       "      <td>1.403494</td>\n",
       "    </tr>\n",
       "    <tr>\n",
       "      <th>4</th>\n",
       "      <td>4</td>\n",
       "      <td>1.380316</td>\n",
       "    </tr>\n",
       "  </tbody>\n",
       "</table>\n",
       "</div>"
      ],
      "text/plain": [
       "   education     voted\n",
       "1          1  1.950275\n",
       "2          2  1.632967\n",
       "0          0  1.522727\n",
       "3          3  1.403494\n",
       "4          4  1.380316"
      ]
     },
     "execution_count": 25,
     "metadata": {},
     "output_type": "execute_result"
    }
   ],
   "source": [
    "train_df[['education', 'voted']].groupby(['education'], as_index=False).mean().sort_values(by='voted', ascending=False)"
   ]
  },
  {
   "cell_type": "code",
   "execution_count": 26,
   "metadata": {},
   "outputs": [],
   "source": [
    "education_mapping = {1:0, 2:1, 0:2, 3:3, 4:4}\n",
    "\n",
    "train_df['education'] = train_df['education'].map(education_mapping)\n",
    "test_df['education'] = test_df['education'].map(education_mapping)"
   ]
  },
  {
   "cell_type": "code",
   "execution_count": 27,
   "metadata": {},
   "outputs": [
    {
     "data": {
      "text/html": [
       "<div>\n",
       "<style scoped>\n",
       "    .dataframe tbody tr th:only-of-type {\n",
       "        vertical-align: middle;\n",
       "    }\n",
       "\n",
       "    .dataframe tbody tr th {\n",
       "        vertical-align: top;\n",
       "    }\n",
       "\n",
       "    .dataframe thead th {\n",
       "        text-align: right;\n",
       "    }\n",
       "</style>\n",
       "<table border=\"1\" class=\"dataframe\">\n",
       "  <thead>\n",
       "    <tr style=\"text-align: right;\">\n",
       "      <th></th>\n",
       "      <th>education</th>\n",
       "      <th>voted</th>\n",
       "    </tr>\n",
       "  </thead>\n",
       "  <tbody>\n",
       "    <tr>\n",
       "      <th>0</th>\n",
       "      <td>0</td>\n",
       "      <td>1.950275</td>\n",
       "    </tr>\n",
       "    <tr>\n",
       "      <th>1</th>\n",
       "      <td>1</td>\n",
       "      <td>1.632967</td>\n",
       "    </tr>\n",
       "    <tr>\n",
       "      <th>2</th>\n",
       "      <td>2</td>\n",
       "      <td>1.522727</td>\n",
       "    </tr>\n",
       "    <tr>\n",
       "      <th>3</th>\n",
       "      <td>3</td>\n",
       "      <td>1.403494</td>\n",
       "    </tr>\n",
       "    <tr>\n",
       "      <th>4</th>\n",
       "      <td>4</td>\n",
       "      <td>1.380316</td>\n",
       "    </tr>\n",
       "  </tbody>\n",
       "</table>\n",
       "</div>"
      ],
      "text/plain": [
       "   education     voted\n",
       "0          0  1.950275\n",
       "1          1  1.632967\n",
       "2          2  1.522727\n",
       "3          3  1.403494\n",
       "4          4  1.380316"
      ]
     },
     "execution_count": 27,
     "metadata": {},
     "output_type": "execute_result"
    }
   ],
   "source": [
    "train_df[['education', 'voted']].groupby(['education'], as_index=False).mean().sort_values(by='voted', ascending=False)"
   ]
  },
  {
   "cell_type": "code",
   "execution_count": 28,
   "metadata": {},
   "outputs": [
    {
     "data": {
      "text/html": [
       "<div>\n",
       "<style scoped>\n",
       "    .dataframe tbody tr th:only-of-type {\n",
       "        vertical-align: middle;\n",
       "    }\n",
       "\n",
       "    .dataframe tbody tr th {\n",
       "        vertical-align: top;\n",
       "    }\n",
       "\n",
       "    .dataframe thead th {\n",
       "        text-align: right;\n",
       "    }\n",
       "</style>\n",
       "<table border=\"1\" class=\"dataframe\">\n",
       "  <thead>\n",
       "    <tr style=\"text-align: right;\">\n",
       "      <th></th>\n",
       "      <th>engnat</th>\n",
       "      <th>voted</th>\n",
       "    </tr>\n",
       "  </thead>\n",
       "  <tbody>\n",
       "    <tr>\n",
       "      <th>0</th>\n",
       "      <td>0</td>\n",
       "      <td>1.623377</td>\n",
       "    </tr>\n",
       "    <tr>\n",
       "      <th>2</th>\n",
       "      <td>2</td>\n",
       "      <td>1.571394</td>\n",
       "    </tr>\n",
       "    <tr>\n",
       "      <th>1</th>\n",
       "      <td>1</td>\n",
       "      <td>1.537397</td>\n",
       "    </tr>\n",
       "  </tbody>\n",
       "</table>\n",
       "</div>"
      ],
      "text/plain": [
       "   engnat     voted\n",
       "0       0  1.623377\n",
       "2       2  1.571394\n",
       "1       1  1.537397"
      ]
     },
     "execution_count": 28,
     "metadata": {},
     "output_type": "execute_result"
    }
   ],
   "source": [
    "train_df[['engnat', 'voted']].groupby(['engnat'], as_index=False).mean().sort_values(by='voted', ascending=False)"
   ]
  },
  {
   "cell_type": "code",
   "execution_count": 29,
   "metadata": {},
   "outputs": [],
   "source": [
    "engnat_mapping = {0:0, 2:1, 1:2}\n",
    "\n",
    "train_df['engnat'] = train_df['engnat'].map(engnat_mapping)\n",
    "test_df['engnat'] = test_df['engnat'].map(engnat_mapping)"
   ]
  },
  {
   "cell_type": "code",
   "execution_count": 30,
   "metadata": {},
   "outputs": [
    {
     "data": {
      "text/html": [
       "<div>\n",
       "<style scoped>\n",
       "    .dataframe tbody tr th:only-of-type {\n",
       "        vertical-align: middle;\n",
       "    }\n",
       "\n",
       "    .dataframe tbody tr th {\n",
       "        vertical-align: top;\n",
       "    }\n",
       "\n",
       "    .dataframe thead th {\n",
       "        text-align: right;\n",
       "    }\n",
       "</style>\n",
       "<table border=\"1\" class=\"dataframe\">\n",
       "  <thead>\n",
       "    <tr style=\"text-align: right;\">\n",
       "      <th></th>\n",
       "      <th>engnat</th>\n",
       "      <th>voted</th>\n",
       "    </tr>\n",
       "  </thead>\n",
       "  <tbody>\n",
       "    <tr>\n",
       "      <th>0</th>\n",
       "      <td>0</td>\n",
       "      <td>1.623377</td>\n",
       "    </tr>\n",
       "    <tr>\n",
       "      <th>1</th>\n",
       "      <td>1</td>\n",
       "      <td>1.571394</td>\n",
       "    </tr>\n",
       "    <tr>\n",
       "      <th>2</th>\n",
       "      <td>2</td>\n",
       "      <td>1.537397</td>\n",
       "    </tr>\n",
       "  </tbody>\n",
       "</table>\n",
       "</div>"
      ],
      "text/plain": [
       "   engnat     voted\n",
       "0       0  1.623377\n",
       "1       1  1.571394\n",
       "2       2  1.537397"
      ]
     },
     "execution_count": 30,
     "metadata": {},
     "output_type": "execute_result"
    }
   ],
   "source": [
    "train_df[['engnat', 'voted']].groupby(['engnat'], as_index=False).mean().sort_values(by='voted', ascending=False)"
   ]
  },
  {
   "cell_type": "code",
   "execution_count": 31,
   "metadata": {},
   "outputs": [
    {
     "data": {
      "text/html": [
       "<div>\n",
       "<style scoped>\n",
       "    .dataframe tbody tr th:only-of-type {\n",
       "        vertical-align: middle;\n",
       "    }\n",
       "\n",
       "    .dataframe tbody tr th {\n",
       "        vertical-align: top;\n",
       "    }\n",
       "\n",
       "    .dataframe thead th {\n",
       "        text-align: right;\n",
       "    }\n",
       "</style>\n",
       "<table border=\"1\" class=\"dataframe\">\n",
       "  <thead>\n",
       "    <tr style=\"text-align: right;\">\n",
       "      <th></th>\n",
       "      <th>familysize</th>\n",
       "      <th>voted</th>\n",
       "    </tr>\n",
       "  </thead>\n",
       "  <tbody>\n",
       "    <tr>\n",
       "      <th>26</th>\n",
       "      <td>2147483647</td>\n",
       "      <td>2.000000</td>\n",
       "    </tr>\n",
       "    <tr>\n",
       "      <th>16</th>\n",
       "      <td>16</td>\n",
       "      <td>2.000000</td>\n",
       "    </tr>\n",
       "    <tr>\n",
       "      <th>22</th>\n",
       "      <td>34</td>\n",
       "      <td>2.000000</td>\n",
       "    </tr>\n",
       "    <tr>\n",
       "      <th>19</th>\n",
       "      <td>20</td>\n",
       "      <td>2.000000</td>\n",
       "    </tr>\n",
       "    <tr>\n",
       "      <th>18</th>\n",
       "      <td>18</td>\n",
       "      <td>2.000000</td>\n",
       "    </tr>\n",
       "    <tr>\n",
       "      <th>23</th>\n",
       "      <td>44</td>\n",
       "      <td>1.666667</td>\n",
       "    </tr>\n",
       "    <tr>\n",
       "      <th>0</th>\n",
       "      <td>0</td>\n",
       "      <td>1.586689</td>\n",
       "    </tr>\n",
       "    <tr>\n",
       "      <th>1</th>\n",
       "      <td>1</td>\n",
       "      <td>1.575669</td>\n",
       "    </tr>\n",
       "    <tr>\n",
       "      <th>8</th>\n",
       "      <td>8</td>\n",
       "      <td>1.561086</td>\n",
       "    </tr>\n",
       "    <tr>\n",
       "      <th>2</th>\n",
       "      <td>2</td>\n",
       "      <td>1.549894</td>\n",
       "    </tr>\n",
       "    <tr>\n",
       "      <th>3</th>\n",
       "      <td>3</td>\n",
       "      <td>1.543088</td>\n",
       "    </tr>\n",
       "    <tr>\n",
       "      <th>6</th>\n",
       "      <td>6</td>\n",
       "      <td>1.535800</td>\n",
       "    </tr>\n",
       "    <tr>\n",
       "      <th>10</th>\n",
       "      <td>10</td>\n",
       "      <td>1.525424</td>\n",
       "    </tr>\n",
       "    <tr>\n",
       "      <th>9</th>\n",
       "      <td>9</td>\n",
       "      <td>1.523810</td>\n",
       "    </tr>\n",
       "    <tr>\n",
       "      <th>5</th>\n",
       "      <td>5</td>\n",
       "      <td>1.518349</td>\n",
       "    </tr>\n",
       "    <tr>\n",
       "      <th>4</th>\n",
       "      <td>4</td>\n",
       "      <td>1.516609</td>\n",
       "    </tr>\n",
       "    <tr>\n",
       "      <th>20</th>\n",
       "      <td>21</td>\n",
       "      <td>1.500000</td>\n",
       "    </tr>\n",
       "    <tr>\n",
       "      <th>7</th>\n",
       "      <td>7</td>\n",
       "      <td>1.480620</td>\n",
       "    </tr>\n",
       "    <tr>\n",
       "      <th>12</th>\n",
       "      <td>12</td>\n",
       "      <td>1.476190</td>\n",
       "    </tr>\n",
       "    <tr>\n",
       "      <th>14</th>\n",
       "      <td>14</td>\n",
       "      <td>1.444444</td>\n",
       "    </tr>\n",
       "    <tr>\n",
       "      <th>11</th>\n",
       "      <td>11</td>\n",
       "      <td>1.435897</td>\n",
       "    </tr>\n",
       "    <tr>\n",
       "      <th>15</th>\n",
       "      <td>15</td>\n",
       "      <td>1.375000</td>\n",
       "    </tr>\n",
       "    <tr>\n",
       "      <th>13</th>\n",
       "      <td>13</td>\n",
       "      <td>1.363636</td>\n",
       "    </tr>\n",
       "    <tr>\n",
       "      <th>21</th>\n",
       "      <td>30</td>\n",
       "      <td>1.000000</td>\n",
       "    </tr>\n",
       "    <tr>\n",
       "      <th>24</th>\n",
       "      <td>100</td>\n",
       "      <td>1.000000</td>\n",
       "    </tr>\n",
       "    <tr>\n",
       "      <th>25</th>\n",
       "      <td>999</td>\n",
       "      <td>1.000000</td>\n",
       "    </tr>\n",
       "    <tr>\n",
       "      <th>17</th>\n",
       "      <td>17</td>\n",
       "      <td>1.000000</td>\n",
       "    </tr>\n",
       "  </tbody>\n",
       "</table>\n",
       "</div>"
      ],
      "text/plain": [
       "    familysize     voted\n",
       "26  2147483647  2.000000\n",
       "16          16  2.000000\n",
       "22          34  2.000000\n",
       "19          20  2.000000\n",
       "18          18  2.000000\n",
       "23          44  1.666667\n",
       "0            0  1.586689\n",
       "1            1  1.575669\n",
       "8            8  1.561086\n",
       "2            2  1.549894\n",
       "3            3  1.543088\n",
       "6            6  1.535800\n",
       "10          10  1.525424\n",
       "9            9  1.523810\n",
       "5            5  1.518349\n",
       "4            4  1.516609\n",
       "20          21  1.500000\n",
       "7            7  1.480620\n",
       "12          12  1.476190\n",
       "14          14  1.444444\n",
       "11          11  1.435897\n",
       "15          15  1.375000\n",
       "13          13  1.363636\n",
       "21          30  1.000000\n",
       "24         100  1.000000\n",
       "25         999  1.000000\n",
       "17          17  1.000000"
      ]
     },
     "execution_count": 31,
     "metadata": {},
     "output_type": "execute_result"
    }
   ],
   "source": [
    "train_df[['familysize', 'voted']].groupby(['familysize'], as_index=False).mean().sort_values(by='voted', ascending=False)"
   ]
  },
  {
   "cell_type": "code",
   "execution_count": 32,
   "metadata": {},
   "outputs": [
    {
     "data": {
      "text/plain": [
       "(array([4.5531e+04, 0.0000e+00, 0.0000e+00, 0.0000e+00, 0.0000e+00,\n",
       "        0.0000e+00, 0.0000e+00, 0.0000e+00, 0.0000e+00, 1.0000e+00]),\n",
       " array([0.00000000e+00, 2.14748365e+08, 4.29496729e+08, 6.44245094e+08,\n",
       "        8.58993459e+08, 1.07374182e+09, 1.28849019e+09, 1.50323855e+09,\n",
       "        1.71798692e+09, 1.93273528e+09, 2.14748365e+09]),\n",
       " <BarContainer object of 10 artists>)"
      ]
     },
     "execution_count": 32,
     "metadata": {},
     "output_type": "execute_result"
    },
    {
     "data": {
      "image/png": "[encoded data removed]",
      "text/plain": [
       "<Figure size 432x288 with 1 Axes>"
      ]
     },
     "metadata": {
      "needs_background": "light"
     },
     "output_type": "display_data"
    }
   ],
   "source": [
    "plt.hist(train_df['familysize'])"
   ]
  },
  {
   "cell_type": "code",
   "execution_count": 33,
   "metadata": {},
   "outputs": [
    {
     "data": {
      "text/plain": [
       "array([         4,          3,          0,          2,          6,\n",
       "                1,          5,          8,          7,          9,\n",
       "              999,         11,         10,         15,         14,\n",
       "               12,         21,         13,         20,         44,\n",
       "               16, 2147483647,         17,        100,         34,\n",
       "               30,         18], dtype=int64)"
      ]
     },
     "execution_count": 33,
     "metadata": {},
     "output_type": "execute_result"
    }
   ],
   "source": [
    "train_df['familysize'].unique()"
   ]
  },
  {
   "cell_type": "markdown",
   "metadata": {},
   "source": [
    "### 이상치 탐지 함수"
   ]
  },
  {
   "cell_type": "code",
   "execution_count": 34,
   "metadata": {},
   "outputs": [],
   "source": [
    "def outlier_iqr(data, column): \n",
    "\n",
    "    # lower, upper 글로벌 변수 선언하기     \n",
    "    global lower, upper    \n",
    "    \n",
    "    # 4분위수 기준 지정하기     \n",
    "    q25, q75 = np.quantile(data[column], 0.25), np.quantile(data[column], 0.75)          \n",
    "    \n",
    "    # IQR 계산하기     \n",
    "    iqr = q75 - q25    \n",
    "    \n",
    "    # outlier cutoff 계산하기     \n",
    "    cut_off = iqr * 1.5          \n",
    "    \n",
    "    # lower와 upper bound 값 구하기     \n",
    "    lower, upper = q25 - cut_off, q75 + cut_off     \n",
    "    \n",
    "    print('IQR은',iqr, '이다.')     \n",
    "    print('lower bound 값은', lower, '이다.')     \n",
    "    print('upper bound 값은', upper, '이다.')\n",
    "    \n",
    "    # 1사 분위와 4사 분위에 속해있는 데이터 각각 저장하기     \n",
    "    data1 = data[data[column] > upper]     \n",
    "    data2 = data[data[column] < lower]\n",
    "    \n",
    "    print('총 이상치 개수는', data1.shape[0] + data2.shape[0], '이다.')\n",
    "    \n",
    "    #data = data[(data[column] < upper) & (data[column] > lower)]\n",
    "    \n",
    "    #test_out_idx = test_df[(test_df[column] < upper) & (test_df[column] > lower)].index\n",
    "    #test_df[test_out_idx]= 평균\n",
    "    \n",
    "    avg = (lower + upper)/2\n",
    "    \n",
    "    return lower, upper, avg"
   ]
  },
  {
   "cell_type": "markdown",
   "metadata": {},
   "source": [
    "## 주엽 선배 조언\n",
    "* 평균값보단 빈도 높은 값으로 하기 or 가장 가까운 값"
   ]
  },
  {
   "cell_type": "code",
   "execution_count": 35,
   "metadata": {},
   "outputs": [
    {
     "data": {
      "text/plain": [
       "\"test_out_idx = test_df[(test_df['familysize'] >= upper) | (test_df['familysize'] <= lower)].index\""
      ]
     },
     "execution_count": 35,
     "metadata": {},
     "output_type": "execute_result"
    }
   ],
   "source": [
    "\"\"\"test_out_idx = test_df[(test_df['familysize'] >= upper) | (test_df['familysize'] <= lower)].index\"\"\""
   ]
  },
  {
   "cell_type": "code",
   "execution_count": 36,
   "metadata": {},
   "outputs": [
    {
     "data": {
      "text/plain": [
       "\"for i in range(test_df.index.size):\\n    for j in range(test_out_idx.size):\\n        if(test_df.index[i] == test_out_idx[j]):\\n            test_df['familysize'] = avg\\n        else:\\n            test_df['familysize'] = test_df['familysize']\""
      ]
     },
     "execution_count": 36,
     "metadata": {},
     "output_type": "execute_result"
    }
   ],
   "source": [
    "\"\"\"for i in range(test_df.index.size):\n",
    "    for j in range(test_out_idx.size):\n",
    "        if(test_df.index[i] == test_out_idx[j]):\n",
    "            test_df['familysize'] = avg\n",
    "        else:\n",
    "            test_df['familysize'] = test_df['familysize']\"\"\""
   ]
  },
  {
   "cell_type": "code",
   "execution_count": 37,
   "metadata": {},
   "outputs": [
    {
     "data": {
      "text/plain": [
       "array([ 3,  2,  7,  4,  1,  0,  5,  6,  8,  9, 10, 11, 23, 12, 15, 14, 20],\n",
       "      dtype=int64)"
      ]
     },
     "execution_count": 37,
     "metadata": {},
     "output_type": "execute_result"
    }
   ],
   "source": [
    "test_df['familysize'].unique()"
   ]
  },
  {
   "cell_type": "code",
   "execution_count": 38,
   "metadata": {},
   "outputs": [
    {
     "data": {
      "text/plain": [
       "array([         4,          3,          0,          2,          6,\n",
       "                1,          5,          8,          7,          9,\n",
       "              999,         11,         10,         15,         14,\n",
       "               12,         21,         13,         20,         44,\n",
       "               16, 2147483647,         17,        100,         34,\n",
       "               30,         18], dtype=int64)"
      ]
     },
     "execution_count": 38,
     "metadata": {},
     "output_type": "execute_result"
    }
   ],
   "source": [
    "train_df['familysize'].unique()"
   ]
  },
  {
   "cell_type": "code",
   "execution_count": 39,
   "metadata": {},
   "outputs": [
    {
     "name": "stdout",
     "output_type": "stream",
     "text": [
      "IQR은 1.0 이다.\n",
      "lower bound 값은 0.5 이다.\n",
      "upper bound 값은 4.5 이다.\n",
      "총 이상치 개수는 4916 이다.\n"
     ]
    }
   ],
   "source": [
    "lower, upper, avg = outlier_iqr(train_df,'familysize')"
   ]
  },
  {
   "cell_type": "code",
   "execution_count": 40,
   "metadata": {},
   "outputs": [],
   "source": [
    "combine = [train_df, test_df]\n",
    "\n",
    "for dataset in combine:\n",
    "    dataset.loc[(dataset['familysize'] <= lower) | (dataset['familysize'] >=upper), 'familysize'] = upper\n",
    "    \"\"\"dataset.loc[(dataset['familysize'] <= lower), 'familysize'] = lower\n",
    "    dataset.loc[(dataset['familysize'] >=upper), 'familysize'] = upper\"\"\"\n",
    "    \n",
    "\n",
    "    dataset['familysize'] = dataset['familysize'].astype(int)\n",
    "\n",
    "combine = [train_df, test_df]"
   ]
  },
  {
   "cell_type": "code",
   "execution_count": 41,
   "metadata": {
    "scrolled": true
   },
   "outputs": [
    {
     "data": {
      "text/plain": [
       "array([3, 2, 4, 1])"
      ]
     },
     "execution_count": 41,
     "metadata": {},
     "output_type": "execute_result"
    }
   ],
   "source": [
    "test_df['familysize'].unique()"
   ]
  },
  {
   "cell_type": "code",
   "execution_count": 42,
   "metadata": {},
   "outputs": [
    {
     "data": {
      "text/plain": [
       "array([4, 3, 2, 1])"
      ]
     },
     "execution_count": 42,
     "metadata": {},
     "output_type": "execute_result"
    }
   ],
   "source": [
    "train_df['familysize'].unique()"
   ]
  },
  {
   "cell_type": "code",
   "execution_count": 43,
   "metadata": {},
   "outputs": [
    {
     "data": {
      "text/plain": [
       "0        False\n",
       "1        False\n",
       "2        False\n",
       "3        False\n",
       "4        False\n",
       "         ...  \n",
       "11378    False\n",
       "11379    False\n",
       "11380    False\n",
       "11381    False\n",
       "11382    False\n",
       "Name: familysize, Length: 11383, dtype: bool"
      ]
     },
     "execution_count": 43,
     "metadata": {},
     "output_type": "execute_result"
    }
   ],
   "source": [
    "test_df['familysize'].isnull()"
   ]
  },
  {
   "cell_type": "code",
   "execution_count": null,
   "metadata": {},
   "outputs": [],
   "source": []
  },
  {
   "cell_type": "code",
   "execution_count": null,
   "metadata": {},
   "outputs": [],
   "source": []
  },
  {
   "cell_type": "code",
   "execution_count": null,
   "metadata": {},
   "outputs": [],
   "source": []
  },
  {
   "cell_type": "code",
   "execution_count": null,
   "metadata": {},
   "outputs": [],
   "source": []
  },
  {
   "cell_type": "code",
   "execution_count": null,
   "metadata": {},
   "outputs": [],
   "source": []
  },
  {
   "cell_type": "code",
   "execution_count": null,
   "metadata": {},
   "outputs": [],
   "source": []
  },
  {
   "cell_type": "code",
   "execution_count": null,
   "metadata": {},
   "outputs": [],
   "source": []
  },
  {
   "cell_type": "code",
   "execution_count": null,
   "metadata": {},
   "outputs": [],
   "source": []
  },
  {
   "cell_type": "code",
   "execution_count": null,
   "metadata": {},
   "outputs": [],
   "source": []
  },
  {
   "cell_type": "code",
   "execution_count": 44,
   "metadata": {},
   "outputs": [
    {
     "data": {
      "text/plain": [
       "(array([ 6535.,     0.,     0., 17918.,     0.,     0., 11256.,     0.,\n",
       "            0.,  9823.]),\n",
       " array([1. , 1.3, 1.6, 1.9, 2.2, 2.5, 2.8, 3.1, 3.4, 3.7, 4. ]),\n",
       " <BarContainer object of 10 artists>)"
      ]
     },
     "execution_count": 44,
     "metadata": {},
     "output_type": "execute_result"
    },
    {
     "data": {
      "image/png": "[encoded data removed]",
      "text/plain": [
       "<Figure size 432x288 with 1 Axes>"
      ]
     },
     "metadata": {
      "needs_background": "light"
     },
     "output_type": "display_data"
    }
   ],
   "source": [
    "plt.hist(train_df['familysize'])"
   ]
  },
  {
   "cell_type": "code",
   "execution_count": 45,
   "metadata": {},
   "outputs": [
    {
     "data": {
      "text/html": [
       "<div>\n",
       "<style scoped>\n",
       "    .dataframe tbody tr th:only-of-type {\n",
       "        vertical-align: middle;\n",
       "    }\n",
       "\n",
       "    .dataframe tbody tr th {\n",
       "        vertical-align: top;\n",
       "    }\n",
       "\n",
       "    .dataframe thead th {\n",
       "        text-align: right;\n",
       "    }\n",
       "</style>\n",
       "<table border=\"1\" class=\"dataframe\">\n",
       "  <thead>\n",
       "    <tr style=\"text-align: right;\">\n",
       "      <th></th>\n",
       "      <th>familysize</th>\n",
       "      <th>voted</th>\n",
       "    </tr>\n",
       "  </thead>\n",
       "  <tbody>\n",
       "    <tr>\n",
       "      <th>0</th>\n",
       "      <td>1</td>\n",
       "      <td>1.575669</td>\n",
       "    </tr>\n",
       "    <tr>\n",
       "      <th>1</th>\n",
       "      <td>2</td>\n",
       "      <td>1.549894</td>\n",
       "    </tr>\n",
       "    <tr>\n",
       "      <th>2</th>\n",
       "      <td>3</td>\n",
       "      <td>1.543088</td>\n",
       "    </tr>\n",
       "    <tr>\n",
       "      <th>3</th>\n",
       "      <td>4</td>\n",
       "      <td>1.526316</td>\n",
       "    </tr>\n",
       "  </tbody>\n",
       "</table>\n",
       "</div>"
      ],
      "text/plain": [
       "   familysize     voted\n",
       "0           1  1.575669\n",
       "1           2  1.549894\n",
       "2           3  1.543088\n",
       "3           4  1.526316"
      ]
     },
     "execution_count": 45,
     "metadata": {},
     "output_type": "execute_result"
    }
   ],
   "source": [
    "train_df[['familysize', 'voted']].groupby(['familysize'], as_index=False).mean().sort_values(by='voted', ascending=False)"
   ]
  },
  {
   "cell_type": "code",
   "execution_count": 46,
   "metadata": {},
   "outputs": [
    {
     "data": {
      "text/plain": [
       "\"familysize_mapping = {1:3, 2:2, 3:1, 4:0}\\n\\ntrain_df['familysize'] = train_df['familysize'].map(familysize_mapping)\\ntest_df['familysize'] = test_df['familysize'].map(familysize_mapping)\""
      ]
     },
     "execution_count": 46,
     "metadata": {},
     "output_type": "execute_result"
    }
   ],
   "source": [
    "\"\"\"familysize_mapping = {1:3, 2:2, 3:1, 4:0}\n",
    "\n",
    "train_df['familysize'] = train_df['familysize'].map(familysize_mapping)\n",
    "test_df['familysize'] = test_df['familysize'].map(familysize_mapping)\"\"\""
   ]
  },
  {
   "cell_type": "code",
   "execution_count": 47,
   "metadata": {},
   "outputs": [
    {
     "data": {
      "text/plain": [
       "\"train_df[['familysize', 'voted']].groupby(['familysize'], as_index=False).mean().sort_values(by='voted', ascending=False)\""
      ]
     },
     "execution_count": 47,
     "metadata": {},
     "output_type": "execute_result"
    }
   ],
   "source": [
    "\"\"\"train_df[['familysize', 'voted']].groupby(['familysize'], as_index=False).mean().sort_values(by='voted', ascending=False)\"\"\""
   ]
  },
  {
   "cell_type": "code",
   "execution_count": 48,
   "metadata": {},
   "outputs": [
    {
     "data": {
      "text/html": [
       "<div>\n",
       "<style scoped>\n",
       "    .dataframe tbody tr th:only-of-type {\n",
       "        vertical-align: middle;\n",
       "    }\n",
       "\n",
       "    .dataframe tbody tr th {\n",
       "        vertical-align: top;\n",
       "    }\n",
       "\n",
       "    .dataframe thead th {\n",
       "        text-align: right;\n",
       "    }\n",
       "</style>\n",
       "<table border=\"1\" class=\"dataframe\">\n",
       "  <thead>\n",
       "    <tr style=\"text-align: right;\">\n",
       "      <th></th>\n",
       "      <th>hand</th>\n",
       "      <th>voted</th>\n",
       "    </tr>\n",
       "  </thead>\n",
       "  <tbody>\n",
       "    <tr>\n",
       "      <th>0</th>\n",
       "      <td>0</td>\n",
       "      <td>1.633540</td>\n",
       "    </tr>\n",
       "    <tr>\n",
       "      <th>3</th>\n",
       "      <td>3</td>\n",
       "      <td>1.592844</td>\n",
       "    </tr>\n",
       "    <tr>\n",
       "      <th>1</th>\n",
       "      <td>1</td>\n",
       "      <td>1.545317</td>\n",
       "    </tr>\n",
       "    <tr>\n",
       "      <th>2</th>\n",
       "      <td>2</td>\n",
       "      <td>1.540494</td>\n",
       "    </tr>\n",
       "  </tbody>\n",
       "</table>\n",
       "</div>"
      ],
      "text/plain": [
       "   hand     voted\n",
       "0     0  1.633540\n",
       "3     3  1.592844\n",
       "1     1  1.545317\n",
       "2     2  1.540494"
      ]
     },
     "execution_count": 48,
     "metadata": {},
     "output_type": "execute_result"
    }
   ],
   "source": [
    "train_df[['hand', 'voted']].groupby(['hand'], as_index=False).mean().sort_values(by='voted', ascending=False)"
   ]
  },
  {
   "cell_type": "code",
   "execution_count": 49,
   "metadata": {},
   "outputs": [],
   "source": [
    "hand_mapping = {0:0, 3:1, 1:2, 2:3}\n",
    "\n",
    "train_df['hand'] = train_df['hand'].map(hand_mapping)\n",
    "test_df['hand'] = test_df['hand'].map(hand_mapping)"
   ]
  },
  {
   "cell_type": "code",
   "execution_count": 50,
   "metadata": {},
   "outputs": [
    {
     "data": {
      "text/html": [
       "<div>\n",
       "<style scoped>\n",
       "    .dataframe tbody tr th:only-of-type {\n",
       "        vertical-align: middle;\n",
       "    }\n",
       "\n",
       "    .dataframe tbody tr th {\n",
       "        vertical-align: top;\n",
       "    }\n",
       "\n",
       "    .dataframe thead th {\n",
       "        text-align: right;\n",
       "    }\n",
       "</style>\n",
       "<table border=\"1\" class=\"dataframe\">\n",
       "  <thead>\n",
       "    <tr style=\"text-align: right;\">\n",
       "      <th></th>\n",
       "      <th>hand</th>\n",
       "      <th>voted</th>\n",
       "    </tr>\n",
       "  </thead>\n",
       "  <tbody>\n",
       "    <tr>\n",
       "      <th>0</th>\n",
       "      <td>0</td>\n",
       "      <td>1.633540</td>\n",
       "    </tr>\n",
       "    <tr>\n",
       "      <th>1</th>\n",
       "      <td>1</td>\n",
       "      <td>1.592844</td>\n",
       "    </tr>\n",
       "    <tr>\n",
       "      <th>2</th>\n",
       "      <td>2</td>\n",
       "      <td>1.545317</td>\n",
       "    </tr>\n",
       "    <tr>\n",
       "      <th>3</th>\n",
       "      <td>3</td>\n",
       "      <td>1.540494</td>\n",
       "    </tr>\n",
       "  </tbody>\n",
       "</table>\n",
       "</div>"
      ],
      "text/plain": [
       "   hand     voted\n",
       "0     0  1.633540\n",
       "1     1  1.592844\n",
       "2     2  1.545317\n",
       "3     3  1.540494"
      ]
     },
     "execution_count": 50,
     "metadata": {},
     "output_type": "execute_result"
    }
   ],
   "source": [
    "train_df[['hand', 'voted']].groupby(['hand'], as_index=False).mean().sort_values(by='voted', ascending=False)"
   ]
  },
  {
   "cell_type": "code",
   "execution_count": 51,
   "metadata": {},
   "outputs": [
    {
     "data": {
      "text/html": [
       "<div>\n",
       "<style scoped>\n",
       "    .dataframe tbody tr th:only-of-type {\n",
       "        vertical-align: middle;\n",
       "    }\n",
       "\n",
       "    .dataframe tbody tr th {\n",
       "        vertical-align: top;\n",
       "    }\n",
       "\n",
       "    .dataframe thead th {\n",
       "        text-align: right;\n",
       "    }\n",
       "</style>\n",
       "<table border=\"1\" class=\"dataframe\">\n",
       "  <thead>\n",
       "    <tr style=\"text-align: right;\">\n",
       "      <th></th>\n",
       "      <th>married</th>\n",
       "      <th>voted</th>\n",
       "    </tr>\n",
       "  </thead>\n",
       "  <tbody>\n",
       "    <tr>\n",
       "      <th>0</th>\n",
       "      <td>0</td>\n",
       "      <td>1.677419</td>\n",
       "    </tr>\n",
       "    <tr>\n",
       "      <th>1</th>\n",
       "      <td>1</td>\n",
       "      <td>1.629572</td>\n",
       "    </tr>\n",
       "    <tr>\n",
       "      <th>3</th>\n",
       "      <td>3</td>\n",
       "      <td>1.422454</td>\n",
       "    </tr>\n",
       "    <tr>\n",
       "      <th>2</th>\n",
       "      <td>2</td>\n",
       "      <td>1.333433</td>\n",
       "    </tr>\n",
       "  </tbody>\n",
       "</table>\n",
       "</div>"
      ],
      "text/plain": [
       "   married     voted\n",
       "0        0  1.677419\n",
       "1        1  1.629572\n",
       "3        3  1.422454\n",
       "2        2  1.333433"
      ]
     },
     "execution_count": 51,
     "metadata": {},
     "output_type": "execute_result"
    }
   ],
   "source": [
    "train_df[['married', 'voted']].groupby(['married'], as_index=False).mean().sort_values(by='voted', ascending=False)"
   ]
  },
  {
   "cell_type": "code",
   "execution_count": 52,
   "metadata": {},
   "outputs": [],
   "source": [
    "married_mapping = {0:0, 1:1, 3:2, 2:3}\n",
    "\n",
    "train_df['married'] = train_df['married'].map(married_mapping)\n",
    "test_df['married'] = test_df['married'].map(married_mapping)"
   ]
  },
  {
   "cell_type": "code",
   "execution_count": 53,
   "metadata": {},
   "outputs": [
    {
     "data": {
      "text/html": [
       "<div>\n",
       "<style scoped>\n",
       "    .dataframe tbody tr th:only-of-type {\n",
       "        vertical-align: middle;\n",
       "    }\n",
       "\n",
       "    .dataframe tbody tr th {\n",
       "        vertical-align: top;\n",
       "    }\n",
       "\n",
       "    .dataframe thead th {\n",
       "        text-align: right;\n",
       "    }\n",
       "</style>\n",
       "<table border=\"1\" class=\"dataframe\">\n",
       "  <thead>\n",
       "    <tr style=\"text-align: right;\">\n",
       "      <th></th>\n",
       "      <th>urban</th>\n",
       "      <th>voted</th>\n",
       "    </tr>\n",
       "  </thead>\n",
       "  <tbody>\n",
       "    <tr>\n",
       "      <th>3</th>\n",
       "      <td>3</td>\n",
       "      <td>1.580402</td>\n",
       "    </tr>\n",
       "    <tr>\n",
       "      <th>2</th>\n",
       "      <td>2</td>\n",
       "      <td>1.541545</td>\n",
       "    </tr>\n",
       "    <tr>\n",
       "      <th>1</th>\n",
       "      <td>1</td>\n",
       "      <td>1.492872</td>\n",
       "    </tr>\n",
       "    <tr>\n",
       "      <th>0</th>\n",
       "      <td>0</td>\n",
       "      <td>1.490683</td>\n",
       "    </tr>\n",
       "  </tbody>\n",
       "</table>\n",
       "</div>"
      ],
      "text/plain": [
       "   urban     voted\n",
       "3      3  1.580402\n",
       "2      2  1.541545\n",
       "1      1  1.492872\n",
       "0      0  1.490683"
      ]
     },
     "execution_count": 53,
     "metadata": {},
     "output_type": "execute_result"
    }
   ],
   "source": [
    "train_df[['urban', 'voted']].groupby(['urban'], as_index=False).mean().sort_values(by='voted', ascending=False)"
   ]
  },
  {
   "cell_type": "code",
   "execution_count": 54,
   "metadata": {},
   "outputs": [
    {
     "data": {
      "text/plain": [
       "(array([4.5525e+04, 2.0000e+00, 4.0000e+00, 0.0000e+00, 0.0000e+00,\n",
       "        0.0000e+00, 0.0000e+00, 0.0000e+00, 0.0000e+00, 1.0000e+00]),\n",
       " array([2.5000000e+01, 2.4141850e+05, 4.8281200e+05, 7.2420550e+05,\n",
       "        9.6559900e+05, 1.2069925e+06, 1.4483860e+06, 1.6897795e+06,\n",
       "        1.9311730e+06, 2.1725665e+06, 2.4139600e+06]),\n",
       " <BarContainer object of 10 artists>)"
      ]
     },
     "execution_count": 54,
     "metadata": {},
     "output_type": "execute_result"
    },
    {
     "data": {
      "image/png": "[encoded data removed]",
      "text/plain": [
       "<Figure size 432x288 with 1 Axes>"
      ]
     },
     "metadata": {
      "needs_background": "light"
     },
     "output_type": "display_data"
    }
   ],
   "source": [
    "plt.hist(train_df['QaE'])"
   ]
  },
  {
   "cell_type": "code",
   "execution_count": 55,
   "metadata": {},
   "outputs": [
    {
     "name": "stdout",
     "output_type": "stream",
     "text": [
      "IQR은 423.0 이다.\n",
      "lower bound 값은 -230.5 이다.\n",
      "upper bound 값은 1461.5 이다.\n",
      "총 이상치 개수는 3380 이다.\n"
     ]
    }
   ],
   "source": [
    "lower, upper, avg = outlier_iqr(train_df,'QaE')"
   ]
  },
  {
   "cell_type": "code",
   "execution_count": 56,
   "metadata": {},
   "outputs": [],
   "source": [
    "combine = [train_df, test_df]\n",
    "\n",
    "for dataset in combine:\n",
    "    dataset.loc[(dataset['QaE'] <= lower) | (dataset['QaE'] >=upper), 'QaE'] = upper\n",
    "    \"\"\"dataset.loc[(dataset['QaE'] <= lower), 'QaE'] = lower\n",
    "    dataset.loc[(dataset['QaE'] >=upper), 'QaE'] = upper\"\"\"\n",
    "\n",
    "    dataset['QaE'] = dataset['QaE'].astype(int)\n",
    "\n",
    "combine = [train_df, test_df]"
   ]
  },
  {
   "cell_type": "code",
   "execution_count": 57,
   "metadata": {},
   "outputs": [
    {
     "data": {
      "text/plain": [
       "array([ 363,  647, 1461, ...,   68,  175,  126])"
      ]
     },
     "execution_count": 57,
     "metadata": {},
     "output_type": "execute_result"
    }
   ],
   "source": [
    "train_df['QaE'].unique()"
   ]
  },
  {
   "cell_type": "code",
   "execution_count": 58,
   "metadata": {},
   "outputs": [
    {
     "data": {
      "text/html": [
       "<div>\n",
       "<style scoped>\n",
       "    .dataframe tbody tr th:only-of-type {\n",
       "        vertical-align: middle;\n",
       "    }\n",
       "\n",
       "    .dataframe tbody tr th {\n",
       "        vertical-align: top;\n",
       "    }\n",
       "\n",
       "    .dataframe thead th {\n",
       "        text-align: right;\n",
       "    }\n",
       "</style>\n",
       "<table border=\"1\" class=\"dataframe\">\n",
       "  <thead>\n",
       "    <tr style=\"text-align: right;\">\n",
       "      <th></th>\n",
       "      <th>QaE_band</th>\n",
       "      <th>voted</th>\n",
       "    </tr>\n",
       "  </thead>\n",
       "  <tbody>\n",
       "    <tr>\n",
       "      <th>0</th>\n",
       "      <td>(24.999, 320.0]</td>\n",
       "      <td>1.624016</td>\n",
       "    </tr>\n",
       "    <tr>\n",
       "      <th>1</th>\n",
       "      <td>(320.0, 377.0]</td>\n",
       "      <td>1.597213</td>\n",
       "    </tr>\n",
       "    <tr>\n",
       "      <th>2</th>\n",
       "      <td>(377.0, 430.0]</td>\n",
       "      <td>1.565447</td>\n",
       "    </tr>\n",
       "    <tr>\n",
       "      <th>3</th>\n",
       "      <td>(430.0, 488.0]</td>\n",
       "      <td>1.552049</td>\n",
       "    </tr>\n",
       "    <tr>\n",
       "      <th>4</th>\n",
       "      <td>(488.0, 557.0]</td>\n",
       "      <td>1.546351</td>\n",
       "    </tr>\n",
       "    <tr>\n",
       "      <th>5</th>\n",
       "      <td>(557.0, 637.0]</td>\n",
       "      <td>1.541049</td>\n",
       "    </tr>\n",
       "    <tr>\n",
       "      <th>6</th>\n",
       "      <td>(637.0, 752.0]</td>\n",
       "      <td>1.525121</td>\n",
       "    </tr>\n",
       "    <tr>\n",
       "      <th>7</th>\n",
       "      <td>(752.0, 924.0]</td>\n",
       "      <td>1.515198</td>\n",
       "    </tr>\n",
       "    <tr>\n",
       "      <th>8</th>\n",
       "      <td>(924.0, 1276.0]</td>\n",
       "      <td>1.500439</td>\n",
       "    </tr>\n",
       "    <tr>\n",
       "      <th>9</th>\n",
       "      <td>(1276.0, 1461.0]</td>\n",
       "      <td>1.500440</td>\n",
       "    </tr>\n",
       "  </tbody>\n",
       "</table>\n",
       "</div>"
      ],
      "text/plain": [
       "           QaE_band     voted\n",
       "0   (24.999, 320.0]  1.624016\n",
       "1    (320.0, 377.0]  1.597213\n",
       "2    (377.0, 430.0]  1.565447\n",
       "3    (430.0, 488.0]  1.552049\n",
       "4    (488.0, 557.0]  1.546351\n",
       "5    (557.0, 637.0]  1.541049\n",
       "6    (637.0, 752.0]  1.525121\n",
       "7    (752.0, 924.0]  1.515198\n",
       "8   (924.0, 1276.0]  1.500439\n",
       "9  (1276.0, 1461.0]  1.500440"
      ]
     },
     "execution_count": 58,
     "metadata": {},
     "output_type": "execute_result"
    }
   ],
   "source": [
    "combine = [train_df, test_df]\n",
    "\n",
    "test_df['QaE'].fillna(test_df['QaE'].dropna().median(), inplace=True)\n",
    "train_df['QaE'].fillna(train_df['QaE'].dropna().median(), inplace=True)\n",
    "\n",
    "train_df['QaE_band'] = pd.qcut(train_df['QaE'], 10)\n",
    "\n",
    "train_df[['QaE_band', 'voted']].groupby(['QaE_band'], as_index=False).mean().sort_values(by='QaE_band', ascending=True)"
   ]
  },
  {
   "cell_type": "code",
   "execution_count": 59,
   "metadata": {},
   "outputs": [],
   "source": [
    "for dataset in combine:\n",
    "    dataset.loc[ dataset['QaE'] <= 320.0, 'QaE'] = 9\n",
    "    dataset.loc[(dataset['QaE'] > 320.0) & (dataset['QaE'] <= 377.0), 'QaE'] = 8\n",
    "    dataset.loc[(dataset['QaE'] > 377.0) & (dataset['QaE'] <=430.0), 'QaE'] = 7\n",
    "    dataset.loc[(dataset['QaE'] > 430.0) & (dataset['QaE'] <=488.0), 'QaE'] = 6\n",
    "    dataset.loc[(dataset['QaE'] > 488.0) & (dataset['QaE'] <=557.0), 'QaE'] = 5\n",
    "    dataset.loc[(dataset['QaE'] > 557.0) & (dataset['QaE'] <=615.0), 'QaE'] = 4\n",
    "    dataset.loc[(dataset['QaE'] > 615.0) & (dataset['QaE'] <=664.0), 'QaE'] = 3\n",
    "    dataset.loc[(dataset['QaE'] > 664.0) & (dataset['QaE'] <=790.0), 'QaE'] = 2\n",
    "    dataset.loc[(dataset['QaE'] > 790.0) & (dataset['QaE'] <=987.0), 'QaE'] = 1\n",
    "    dataset.loc[ dataset['QaE'] > 987.0, 'QaE'] = 0\n",
    "    dataset['QaE'] = dataset['QaE'].astype(int)\n",
    "\n",
    "train_df = train_df.drop(['QaE_band'], axis=1)\n",
    "combine = [train_df, test_df]"
   ]
  },
  {
   "cell_type": "code",
   "execution_count": 60,
   "metadata": {},
   "outputs": [
    {
     "data": {
      "text/plain": [
       "array([8, 3, 0, 5, 1, 7, 6, 2, 9, 4])"
      ]
     },
     "execution_count": 60,
     "metadata": {},
     "output_type": "execute_result"
    }
   ],
   "source": [
    "train_df['QaE'].unique()"
   ]
  },
  {
   "cell_type": "code",
   "execution_count": 61,
   "metadata": {},
   "outputs": [
    {
     "name": "stdout",
     "output_type": "stream",
     "text": [
      "IQR은 963.0 이다.\n",
      "lower bound 값은 -569.5 이다.\n",
      "upper bound 값은 3282.5 이다.\n",
      "총 이상치 개수는 3652 이다.\n"
     ]
    }
   ],
   "source": [
    "lower, upper, avg = outlier_iqr(train_df,'QbE')"
   ]
  },
  {
   "cell_type": "code",
   "execution_count": 62,
   "metadata": {},
   "outputs": [],
   "source": [
    "combine = [train_df, test_df]\n",
    "\n",
    "for dataset in combine:\n",
    "    dataset.loc[(dataset['QbE'] <= lower) | (dataset['QbE'] >=upper), 'QbE'] = upper\n",
    "    \"\"\"dataset.loc[(dataset['QbE'] <= lower), 'QbE'] = lower\n",
    "    dataset.loc[(dataset['QbE'] >=upper), 'QbE'] = upper\"\"\"\n",
    "\n",
    "    dataset['QbE'] = dataset['QbE'].astype(int)\n",
    "\n",
    "combine = [train_df, test_df]"
   ]
  },
  {
   "cell_type": "code",
   "execution_count": 63,
   "metadata": {},
   "outputs": [
    {
     "data": {
      "text/html": [
       "<div>\n",
       "<style scoped>\n",
       "    .dataframe tbody tr th:only-of-type {\n",
       "        vertical-align: middle;\n",
       "    }\n",
       "\n",
       "    .dataframe tbody tr th {\n",
       "        vertical-align: top;\n",
       "    }\n",
       "\n",
       "    .dataframe thead th {\n",
       "        text-align: right;\n",
       "    }\n",
       "</style>\n",
       "<table border=\"1\" class=\"dataframe\">\n",
       "  <thead>\n",
       "    <tr style=\"text-align: right;\">\n",
       "      <th></th>\n",
       "      <th>QbE_band</th>\n",
       "      <th>voted</th>\n",
       "    </tr>\n",
       "  </thead>\n",
       "  <tbody>\n",
       "    <tr>\n",
       "      <th>0</th>\n",
       "      <td>(24.999, 662.0]</td>\n",
       "      <td>1.613164</td>\n",
       "    </tr>\n",
       "    <tr>\n",
       "      <th>1</th>\n",
       "      <td>(662.0, 812.0]</td>\n",
       "      <td>1.557663</td>\n",
       "    </tr>\n",
       "    <tr>\n",
       "      <th>2</th>\n",
       "      <td>(812.0, 938.0]</td>\n",
       "      <td>1.558191</td>\n",
       "    </tr>\n",
       "    <tr>\n",
       "      <th>3</th>\n",
       "      <td>(938.0, 1071.0]</td>\n",
       "      <td>1.545633</td>\n",
       "    </tr>\n",
       "    <tr>\n",
       "      <th>4</th>\n",
       "      <td>(1071.0, 1218.0]</td>\n",
       "      <td>1.536714</td>\n",
       "    </tr>\n",
       "    <tr>\n",
       "      <th>5</th>\n",
       "      <td>(1218.0, 1404.0]</td>\n",
       "      <td>1.528174</td>\n",
       "    </tr>\n",
       "    <tr>\n",
       "      <th>6</th>\n",
       "      <td>(1404.0, 1660.0]</td>\n",
       "      <td>1.534536</td>\n",
       "    </tr>\n",
       "    <tr>\n",
       "      <th>7</th>\n",
       "      <td>(1660.0, 2076.0]</td>\n",
       "      <td>1.530150</td>\n",
       "    </tr>\n",
       "    <tr>\n",
       "      <th>8</th>\n",
       "      <td>(2076.0, 2941.9]</td>\n",
       "      <td>1.526813</td>\n",
       "    </tr>\n",
       "    <tr>\n",
       "      <th>9</th>\n",
       "      <td>(2941.9, 3282.0]</td>\n",
       "      <td>1.536891</td>\n",
       "    </tr>\n",
       "  </tbody>\n",
       "</table>\n",
       "</div>"
      ],
      "text/plain": [
       "           QbE_band     voted\n",
       "0   (24.999, 662.0]  1.613164\n",
       "1    (662.0, 812.0]  1.557663\n",
       "2    (812.0, 938.0]  1.558191\n",
       "3   (938.0, 1071.0]  1.545633\n",
       "4  (1071.0, 1218.0]  1.536714\n",
       "5  (1218.0, 1404.0]  1.528174\n",
       "6  (1404.0, 1660.0]  1.534536\n",
       "7  (1660.0, 2076.0]  1.530150\n",
       "8  (2076.0, 2941.9]  1.526813\n",
       "9  (2941.9, 3282.0]  1.536891"
      ]
     },
     "execution_count": 63,
     "metadata": {},
     "output_type": "execute_result"
    }
   ],
   "source": [
    "combine = [train_df, test_df]\n",
    "test_df['QbE'].fillna(test_df['QbE'].dropna().median(), inplace=True)\n",
    "train_df['QbE'].fillna(train_df['QbE'].dropna().median(), inplace=True)\n",
    "train_df['QbE_band'] = pd.qcut(train_df['QbE'], 10)\n",
    "train_df[['QbE_band', 'voted']].groupby(['QbE_band'], as_index=False).mean().sort_values(by='QbE_band', ascending=True)"
   ]
  },
  {
   "cell_type": "code",
   "execution_count": 64,
   "metadata": {},
   "outputs": [],
   "source": [
    "for dataset in combine:\n",
    "    dataset.loc[ dataset['QbE'] <= 662.0, 'QaE'] = 9\n",
    "    dataset.loc[(dataset['QbE'] > 662.0) & (dataset['QbE'] <= 812.0), 'QbE'] = 8\n",
    "    dataset.loc[(dataset['QbE'] > 812.0) & (dataset['QbE'] <=938.0), 'QbE'] = 7\n",
    "    dataset.loc[(dataset['QbE'] > 938.0) & (dataset['QbE'] <=1071.0), 'QbE'] = 6\n",
    "    dataset.loc[(dataset['QbE'] > 1071.0) & (dataset['QbE'] <=1218.0), 'QbE'] = 5\n",
    "    dataset.loc[(dataset['QbE'] > 1218.0) & (dataset['QbE'] <=1356.0), 'QbE'] = 4\n",
    "    dataset.loc[(dataset['QbE'] > 1356.0) & (dataset['QbE'] <=1446.0), 'QbE'] = 3\n",
    "    dataset.loc[(dataset['QbE'] > 1446.0) & (dataset['QbE'] <=1725.0), 'QbE'] = 2\n",
    "    dataset.loc[(dataset['QbE'] > 1725.0) & (dataset['QbE'] <= 2186.0), 'QbE'] = 1\n",
    "    dataset.loc[ dataset['QbE'] >  2186.0, 'QaE'] = 0\n",
    "    dataset['QbE'] = dataset['QbE'].astype(int)\n",
    "\n",
    "train_df = train_df.drop(['QbE_band'], axis=1)\n",
    "combine = [train_df, test_df]"
   ]
  },
  {
   "cell_type": "code",
   "execution_count": 65,
   "metadata": {},
   "outputs": [
    {
     "name": "stdout",
     "output_type": "stream",
     "text": [
      "IQR은 684.0 이다.\n",
      "lower bound 값은 -375.0 이다.\n",
      "upper bound 값은 2361.0 이다.\n",
      "총 이상치 개수는 3679 이다.\n"
     ]
    }
   ],
   "source": [
    "lower, upper, avg = outlier_iqr(train_df,'QcE')"
   ]
  },
  {
   "cell_type": "code",
   "execution_count": 66,
   "metadata": {},
   "outputs": [],
   "source": [
    "combine = [train_df, test_df]\n",
    "\n",
    "for dataset in combine:\n",
    "    dataset.loc[(dataset['QcE'] <= lower) | (dataset['QcE'] >=upper), 'QcE'] = upper\n",
    "    \"\"\"dataset.loc[(dataset['QcE'] <= lower), 'QcE'] = lower\n",
    "    dataset.loc[(dataset['QcE'] >=upper), 'QcE'] = upper\"\"\"\n",
    "\n",
    "    dataset['QcE'] = dataset['QcE'].astype(int)\n",
    "\n",
    "combine = [train_df, test_df]"
   ]
  },
  {
   "cell_type": "code",
   "execution_count": 67,
   "metadata": {},
   "outputs": [
    {
     "data": {
      "text/html": [
       "<div>\n",
       "<style scoped>\n",
       "    .dataframe tbody tr th:only-of-type {\n",
       "        vertical-align: middle;\n",
       "    }\n",
       "\n",
       "    .dataframe tbody tr th {\n",
       "        vertical-align: top;\n",
       "    }\n",
       "\n",
       "    .dataframe thead th {\n",
       "        text-align: right;\n",
       "    }\n",
       "</style>\n",
       "<table border=\"1\" class=\"dataframe\">\n",
       "  <thead>\n",
       "    <tr style=\"text-align: right;\">\n",
       "      <th></th>\n",
       "      <th>QcE_band</th>\n",
       "      <th>voted</th>\n",
       "    </tr>\n",
       "  </thead>\n",
       "  <tbody>\n",
       "    <tr>\n",
       "      <th>0</th>\n",
       "      <td>(24.999, 497.0]</td>\n",
       "      <td>1.612565</td>\n",
       "    </tr>\n",
       "    <tr>\n",
       "      <th>1</th>\n",
       "      <td>(497.0, 604.0]</td>\n",
       "      <td>1.570359</td>\n",
       "    </tr>\n",
       "    <tr>\n",
       "      <th>2</th>\n",
       "      <td>(604.0, 698.0]</td>\n",
       "      <td>1.557578</td>\n",
       "    </tr>\n",
       "    <tr>\n",
       "      <th>3</th>\n",
       "      <td>(698.0, 793.0]</td>\n",
       "      <td>1.554212</td>\n",
       "    </tr>\n",
       "    <tr>\n",
       "      <th>4</th>\n",
       "      <td>(793.0, 899.0]</td>\n",
       "      <td>1.554143</td>\n",
       "    </tr>\n",
       "    <tr>\n",
       "      <th>5</th>\n",
       "      <td>(899.0, 1033.0]</td>\n",
       "      <td>1.531685</td>\n",
       "    </tr>\n",
       "    <tr>\n",
       "      <th>6</th>\n",
       "      <td>(1033.0, 1212.0]</td>\n",
       "      <td>1.538766</td>\n",
       "    </tr>\n",
       "    <tr>\n",
       "      <th>7</th>\n",
       "      <td>(1212.0, 1502.0]</td>\n",
       "      <td>1.515032</td>\n",
       "    </tr>\n",
       "    <tr>\n",
       "      <th>8</th>\n",
       "      <td>(1502.0, 2118.0]</td>\n",
       "      <td>1.515945</td>\n",
       "    </tr>\n",
       "    <tr>\n",
       "      <th>9</th>\n",
       "      <td>(2118.0, 2361.0]</td>\n",
       "      <td>1.517461</td>\n",
       "    </tr>\n",
       "  </tbody>\n",
       "</table>\n",
       "</div>"
      ],
      "text/plain": [
       "           QcE_band     voted\n",
       "0   (24.999, 497.0]  1.612565\n",
       "1    (497.0, 604.0]  1.570359\n",
       "2    (604.0, 698.0]  1.557578\n",
       "3    (698.0, 793.0]  1.554212\n",
       "4    (793.0, 899.0]  1.554143\n",
       "5   (899.0, 1033.0]  1.531685\n",
       "6  (1033.0, 1212.0]  1.538766\n",
       "7  (1212.0, 1502.0]  1.515032\n",
       "8  (1502.0, 2118.0]  1.515945\n",
       "9  (2118.0, 2361.0]  1.517461"
      ]
     },
     "execution_count": 67,
     "metadata": {},
     "output_type": "execute_result"
    }
   ],
   "source": [
    "combine = [train_df, test_df]\n",
    "test_df['QcE'].fillna(test_df['QcE'].dropna().median(), inplace=True)\n",
    "train_df['QcE'].fillna(train_df['QcE'].dropna().median(), inplace=True)\n",
    "train_df['QcE_band'] = pd.qcut(train_df['QcE'], 10)\n",
    "train_df[['QcE_band', 'voted']].groupby(['QcE_band'], as_index=False).mean().sort_values(by='QcE_band', ascending=True)"
   ]
  },
  {
   "cell_type": "code",
   "execution_count": 68,
   "metadata": {},
   "outputs": [],
   "source": [
    "for dataset in combine:\n",
    "    dataset.loc[ dataset['QcE'] <= 497.0, 'QcE'] = 9\n",
    "    dataset.loc[(dataset['QcE'] > 497.0) & (dataset['QcE'] <= 604.0), 'QcE'] = 8\n",
    "    dataset.loc[(dataset['QcE'] > 604.0) & (dataset['QcE'] <=698.0), 'QcE'] = 7\n",
    "    dataset.loc[(dataset['QcE'] > 698.0) & (dataset['QcE'] <=793.0), 'QcE'] = 6\n",
    "    dataset.loc[(dataset['QcE'] > 793.0) & (dataset['QcE'] <=899.0), 'QcE'] = 5\n",
    "    dataset.loc[(dataset['QcE'] > 899.0) & (dataset['QcE'] <=993.0), 'QcE'] = 4\n",
    "    dataset.loc[(dataset['QcE'] > 993.0) & (dataset['QcE'] <=1062.0), 'QcE'] = 3\n",
    "    dataset.loc[(dataset['QcE'] > 1062.0) & (dataset['QcE'] <=1254.0), 'QcE'] = 2\n",
    "    dataset.loc[(dataset['QcE'] > 1254.0) & (dataset['QcE'] <= 1581.0), 'QcE'] = 1\n",
    "    dataset.loc[ dataset['QcE'] >  1581.0, 'QaE'] = 0\n",
    "    dataset['QcE'] = dataset['QcE'].astype(int)\n",
    "\n",
    "train_df = train_df.drop(['QcE_band'], axis=1)\n",
    "combine = [train_df, test_df]"
   ]
  },
  {
   "cell_type": "code",
   "execution_count": null,
   "metadata": {},
   "outputs": [],
   "source": []
  },
  {
   "cell_type": "code",
   "execution_count": null,
   "metadata": {},
   "outputs": [],
   "source": []
  },
  {
   "cell_type": "code",
   "execution_count": null,
   "metadata": {},
   "outputs": [],
   "source": []
  },
  {
   "cell_type": "code",
   "execution_count": null,
   "metadata": {},
   "outputs": [],
   "source": []
  },
  {
   "cell_type": "code",
   "execution_count": 69,
   "metadata": {},
   "outputs": [
    {
     "name": "stdout",
     "output_type": "stream",
     "text": [
      "IQR은 676.0 이다.\n",
      "lower bound 값은 -335.0 이다.\n",
      "upper bound 값은 2369.0 이다.\n",
      "총 이상치 개수는 3614 이다.\n"
     ]
    },
    {
     "data": {
      "text/html": [
       "<div>\n",
       "<style scoped>\n",
       "    .dataframe tbody tr th:only-of-type {\n",
       "        vertical-align: middle;\n",
       "    }\n",
       "\n",
       "    .dataframe tbody tr th {\n",
       "        vertical-align: top;\n",
       "    }\n",
       "\n",
       "    .dataframe thead th {\n",
       "        text-align: right;\n",
       "    }\n",
       "</style>\n",
       "<table border=\"1\" class=\"dataframe\">\n",
       "  <thead>\n",
       "    <tr style=\"text-align: right;\">\n",
       "      <th></th>\n",
       "      <th>QdE_band</th>\n",
       "      <th>voted</th>\n",
       "    </tr>\n",
       "  </thead>\n",
       "  <tbody>\n",
       "    <tr>\n",
       "      <th>0</th>\n",
       "      <td>(25.999, 520.0]</td>\n",
       "      <td>1.608448</td>\n",
       "    </tr>\n",
       "    <tr>\n",
       "      <th>1</th>\n",
       "      <td>(520.0, 631.0]</td>\n",
       "      <td>1.559526</td>\n",
       "    </tr>\n",
       "    <tr>\n",
       "      <th>2</th>\n",
       "      <td>(631.0, 726.0]</td>\n",
       "      <td>1.551400</td>\n",
       "    </tr>\n",
       "    <tr>\n",
       "      <th>3</th>\n",
       "      <td>(726.0, 822.0]</td>\n",
       "      <td>1.551845</td>\n",
       "    </tr>\n",
       "    <tr>\n",
       "      <th>4</th>\n",
       "      <td>(822.0, 931.0]</td>\n",
       "      <td>1.536110</td>\n",
       "    </tr>\n",
       "    <tr>\n",
       "      <th>5</th>\n",
       "      <td>(931.0, 1064.0]</td>\n",
       "      <td>1.537307</td>\n",
       "    </tr>\n",
       "    <tr>\n",
       "      <th>6</th>\n",
       "      <td>(1064.0, 1238.0]</td>\n",
       "      <td>1.533981</td>\n",
       "    </tr>\n",
       "    <tr>\n",
       "      <th>7</th>\n",
       "      <td>(1238.0, 1507.8]</td>\n",
       "      <td>1.537986</td>\n",
       "    </tr>\n",
       "    <tr>\n",
       "      <th>8</th>\n",
       "      <td>(1507.8, 2118.9]</td>\n",
       "      <td>1.516143</td>\n",
       "    </tr>\n",
       "    <tr>\n",
       "      <th>9</th>\n",
       "      <td>(2118.9, 2369.0]</td>\n",
       "      <td>1.535134</td>\n",
       "    </tr>\n",
       "  </tbody>\n",
       "</table>\n",
       "</div>"
      ],
      "text/plain": [
       "           QdE_band     voted\n",
       "0   (25.999, 520.0]  1.608448\n",
       "1    (520.0, 631.0]  1.559526\n",
       "2    (631.0, 726.0]  1.551400\n",
       "3    (726.0, 822.0]  1.551845\n",
       "4    (822.0, 931.0]  1.536110\n",
       "5   (931.0, 1064.0]  1.537307\n",
       "6  (1064.0, 1238.0]  1.533981\n",
       "7  (1238.0, 1507.8]  1.537986\n",
       "8  (1507.8, 2118.9]  1.516143\n",
       "9  (2118.9, 2369.0]  1.535134"
      ]
     },
     "execution_count": 69,
     "metadata": {},
     "output_type": "execute_result"
    }
   ],
   "source": [
    "lower, upper, avg = outlier_iqr(train_df,'QdE')\n",
    "\n",
    "combine = [train_df, test_df]\n",
    "\n",
    "for dataset in combine:\n",
    "    dataset.loc[(dataset['QdE'] <= lower) | (dataset['QdE'] >=upper), 'QdE'] = upper\n",
    "    \"\"\"dataset.loc[(dataset['QbE'] <= lower), 'QbE'] = lower\n",
    "    dataset.loc[(dataset['QbE'] >=upper), 'QbE'] = upper\"\"\"\n",
    "\n",
    "    dataset['QbE'] = dataset['QbE'].astype(int)\n",
    "\n",
    "combine = [train_df, test_df]\n",
    "\n",
    "combine = [train_df, test_df]\n",
    "test_df['QdE'].fillna(test_df['QdE'].dropna().median(), inplace=True)\n",
    "train_df['QdE'].fillna(train_df['QdE'].dropna().median(), inplace=True)\n",
    "train_df['QdE_band'] = pd.qcut(train_df['QdE'], 10)\n",
    "train_df[['QdE_band', 'voted']].groupby(['QdE_band'], as_index=False).mean().sort_values(by='QdE_band', ascending=True)"
   ]
  },
  {
   "cell_type": "code",
   "execution_count": 70,
   "metadata": {},
   "outputs": [],
   "source": [
    "for dataset in combine:\n",
    "    dataset.loc[ dataset['QdE'] <= 520.0, 'QcE'] = 9\n",
    "    dataset.loc[(dataset['QdE'] > 520.0) & (dataset['QdE'] <= 631.0), 'QdE'] = 8\n",
    "    dataset.loc[(dataset['QdE'] > 631.0) & (dataset['QdE'] <=726.0), 'QdE'] = 7\n",
    "    dataset.loc[(dataset['QdE'] > 726.0) & (dataset['QdE'] <=822.0), 'QdE'] = 6\n",
    "    dataset.loc[(dataset['QdE'] > 822.0) & (dataset['QdE'] <=931.0), 'QdE'] = 5\n",
    "    dataset.loc[(dataset['QdE'] > 931.0) & (dataset['QdE'] <=1064.0), 'QdE'] = 4\n",
    "    dataset.loc[(dataset['QdE'] > 1064.0) & (dataset['QdE'] <=1238.0), 'QdE'] = 3\n",
    "    dataset.loc[(dataset['QdE'] > 1238.0) & (dataset['QdE'] <=1507.0), 'QdE'] = 2\n",
    "    dataset.loc[(dataset['QdE'] > 1507.0) & (dataset['QdE'] <=  2118.0), 'QdE'] = 1\n",
    "    dataset.loc[ dataset['QdE'] >   2118.0, 'QdE'] = 0\n",
    "    dataset['QdE'] = dataset['QdE'].astype(int)\n",
    "\n",
    "train_df = train_df.drop(['QdE_band'], axis=1)\n",
    "combine = [train_df, test_df]"
   ]
  },
  {
   "cell_type": "code",
   "execution_count": null,
   "metadata": {},
   "outputs": [],
   "source": []
  },
  {
   "cell_type": "code",
   "execution_count": 71,
   "metadata": {},
   "outputs": [
    {
     "name": "stdout",
     "output_type": "stream",
     "text": [
      "IQR은 822.0 이다.\n",
      "lower bound 값은 -399.0 이다.\n",
      "upper bound 값은 2889.0 이다.\n",
      "총 이상치 개수는 3788 이다.\n"
     ]
    },
    {
     "data": {
      "text/html": [
       "<div>\n",
       "<style scoped>\n",
       "    .dataframe tbody tr th:only-of-type {\n",
       "        vertical-align: middle;\n",
       "    }\n",
       "\n",
       "    .dataframe tbody tr th {\n",
       "        vertical-align: top;\n",
       "    }\n",
       "\n",
       "    .dataframe thead th {\n",
       "        text-align: right;\n",
       "    }\n",
       "</style>\n",
       "<table border=\"1\" class=\"dataframe\">\n",
       "  <thead>\n",
       "    <tr style=\"text-align: right;\">\n",
       "      <th></th>\n",
       "      <th>QeE_band</th>\n",
       "      <th>voted</th>\n",
       "    </tr>\n",
       "  </thead>\n",
       "  <tbody>\n",
       "    <tr>\n",
       "      <th>0</th>\n",
       "      <td>(24.999, 610.0]</td>\n",
       "      <td>1.577496</td>\n",
       "    </tr>\n",
       "    <tr>\n",
       "      <th>1</th>\n",
       "      <td>(610.0, 769.0]</td>\n",
       "      <td>1.542712</td>\n",
       "    </tr>\n",
       "    <tr>\n",
       "      <th>2</th>\n",
       "      <td>(769.0, 898.0]</td>\n",
       "      <td>1.557697</td>\n",
       "    </tr>\n",
       "    <tr>\n",
       "      <th>3</th>\n",
       "      <td>(898.0, 1021.0]</td>\n",
       "      <td>1.552033</td>\n",
       "    </tr>\n",
       "    <tr>\n",
       "      <th>4</th>\n",
       "      <td>(1021.0, 1154.0]</td>\n",
       "      <td>1.548217</td>\n",
       "    </tr>\n",
       "    <tr>\n",
       "      <th>5</th>\n",
       "      <td>(1154.0, 1304.0]</td>\n",
       "      <td>1.539956</td>\n",
       "    </tr>\n",
       "    <tr>\n",
       "      <th>6</th>\n",
       "      <td>(1304.0, 1516.0]</td>\n",
       "      <td>1.545714</td>\n",
       "    </tr>\n",
       "    <tr>\n",
       "      <th>7</th>\n",
       "      <td>(1516.0, 1848.0]</td>\n",
       "      <td>1.527601</td>\n",
       "    </tr>\n",
       "    <tr>\n",
       "      <th>8</th>\n",
       "      <td>(1848.0, 2617.0]</td>\n",
       "      <td>1.513074</td>\n",
       "    </tr>\n",
       "    <tr>\n",
       "      <th>9</th>\n",
       "      <td>(2617.0, 2889.0]</td>\n",
       "      <td>1.563516</td>\n",
       "    </tr>\n",
       "  </tbody>\n",
       "</table>\n",
       "</div>"
      ],
      "text/plain": [
       "           QeE_band     voted\n",
       "0   (24.999, 610.0]  1.577496\n",
       "1    (610.0, 769.0]  1.542712\n",
       "2    (769.0, 898.0]  1.557697\n",
       "3   (898.0, 1021.0]  1.552033\n",
       "4  (1021.0, 1154.0]  1.548217\n",
       "5  (1154.0, 1304.0]  1.539956\n",
       "6  (1304.0, 1516.0]  1.545714\n",
       "7  (1516.0, 1848.0]  1.527601\n",
       "8  (1848.0, 2617.0]  1.513074\n",
       "9  (2617.0, 2889.0]  1.563516"
      ]
     },
     "execution_count": 71,
     "metadata": {},
     "output_type": "execute_result"
    }
   ],
   "source": [
    "lower, upper, avg = outlier_iqr(train_df,'QeE')\n",
    "\n",
    "\n",
    "\n",
    "combine = [train_df, test_df]\n",
    "\n",
    "for dataset in combine:\n",
    "    dataset.loc[(dataset['QeE'] <= lower) | (dataset['QeE'] >=upper), 'QeE'] = upper\n",
    "    #dataset.loc[(dataset['QbE'] <= lower), 'QbE'] = lower\n",
    "    #dataset.loc[(dataset['QbE'] >=upper), 'QbE'] = upper\n",
    "\n",
    "    dataset['QeE'] = dataset['QeE'].astype(int)\n",
    "\n",
    "combine = [train_df, test_df]\n",
    "\n",
    "combine = [train_df, test_df]\n",
    "test_df['QeE'].fillna(test_df['QeE'].dropna().median(), inplace=True)\n",
    "train_df['QeE'].fillna(train_df['QeE'].dropna().median(), inplace=True)\n",
    "train_df['QeE_band'] = pd.qcut(train_df['QeE'], 10)\n",
    "train_df[['QeE_band', 'voted']].groupby(['QeE_band'], as_index=False).mean().sort_values(by='QeE_band', ascending=True)"
   ]
  },
  {
   "cell_type": "code",
   "execution_count": 72,
   "metadata": {},
   "outputs": [],
   "source": [
    "for dataset in combine:\n",
    "    dataset.loc[ dataset['QeE'] <= 610.0, 'QeE'] = 9\n",
    "    dataset.loc[(dataset['QeE'] > 610.0) & (dataset['QeE'] <= 769.0), 'QeE'] = 8\n",
    "    dataset.loc[(dataset['QeE'] > 769.0) & (dataset['QeE'] <=898.0), 'QeE'] = 7\n",
    "    dataset.loc[(dataset['QeE'] > 898.0) & (dataset['QeE'] <=1021.0), 'QeE'] = 6\n",
    "    dataset.loc[(dataset['QeE'] > 1021.0) & (dataset['QeE'] <=1154.0), 'QeE'] = 5\n",
    "    dataset.loc[(dataset['QeE'] > 1154.0) & (dataset['QeE'] <=1304.0), 'QeE'] = 4\n",
    "    dataset.loc[(dataset['QeE'] > 1304.0) & (dataset['QeE'] <=1516.0), 'QeE'] = 3\n",
    "    dataset.loc[(dataset['QeE'] > 1516.0) & (dataset['QeE'] <=1848.0), 'QeE'] = 2\n",
    "    dataset.loc[(dataset['QeE'] > 1848.0) & (dataset['QeE'] <=  2617.0), 'QeE'] = 1\n",
    "    dataset.loc[ dataset['QeE'] >   2617.0, 'QdE'] = 0\n",
    "    dataset['QeE'] = dataset['QeE'].astype(int)\n",
    "\n",
    "train_df = train_df.drop(['QeE_band'], axis=1)\n",
    "combine = [train_df, test_df]"
   ]
  },
  {
   "cell_type": "code",
   "execution_count": 73,
   "metadata": {},
   "outputs": [
    {
     "name": "stdout",
     "output_type": "stream",
     "text": [
      "IQR은 574.0 이다.\n",
      "lower bound 값은 -357.0 이다.\n",
      "upper bound 값은 1939.0 이다.\n",
      "총 이상치 개수는 3646 이다.\n"
     ]
    },
    {
     "data": {
      "text/html": [
       "<div>\n",
       "<style scoped>\n",
       "    .dataframe tbody tr th:only-of-type {\n",
       "        vertical-align: middle;\n",
       "    }\n",
       "\n",
       "    .dataframe tbody tr th {\n",
       "        vertical-align: top;\n",
       "    }\n",
       "\n",
       "    .dataframe thead th {\n",
       "        text-align: right;\n",
       "    }\n",
       "</style>\n",
       "<table border=\"1\" class=\"dataframe\">\n",
       "  <thead>\n",
       "    <tr style=\"text-align: right;\">\n",
       "      <th></th>\n",
       "      <th>QfE_band</th>\n",
       "      <th>voted</th>\n",
       "    </tr>\n",
       "  </thead>\n",
       "  <tbody>\n",
       "    <tr>\n",
       "      <th>0</th>\n",
       "      <td>(24.999, 384.0]</td>\n",
       "      <td>1.600131</td>\n",
       "    </tr>\n",
       "    <tr>\n",
       "      <th>1</th>\n",
       "      <td>(384.0, 465.0]</td>\n",
       "      <td>1.585200</td>\n",
       "    </tr>\n",
       "    <tr>\n",
       "      <th>2</th>\n",
       "      <td>(465.0, 541.0]</td>\n",
       "      <td>1.558636</td>\n",
       "    </tr>\n",
       "    <tr>\n",
       "      <th>3</th>\n",
       "      <td>(541.0, 622.0]</td>\n",
       "      <td>1.556831</td>\n",
       "    </tr>\n",
       "    <tr>\n",
       "      <th>4</th>\n",
       "      <td>(622.0, 712.0]</td>\n",
       "      <td>1.543469</td>\n",
       "    </tr>\n",
       "    <tr>\n",
       "      <th>5</th>\n",
       "      <td>(712.0, 823.0]</td>\n",
       "      <td>1.536972</td>\n",
       "    </tr>\n",
       "    <tr>\n",
       "      <th>6</th>\n",
       "      <td>(823.0, 975.0]</td>\n",
       "      <td>1.517484</td>\n",
       "    </tr>\n",
       "    <tr>\n",
       "      <th>7</th>\n",
       "      <td>(975.0, 1215.0]</td>\n",
       "      <td>1.518804</td>\n",
       "    </tr>\n",
       "    <tr>\n",
       "      <th>8</th>\n",
       "      <td>(1215.0, 1731.0]</td>\n",
       "      <td>1.518120</td>\n",
       "    </tr>\n",
       "    <tr>\n",
       "      <th>9</th>\n",
       "      <td>(1731.0, 1939.0]</td>\n",
       "      <td>1.532205</td>\n",
       "    </tr>\n",
       "  </tbody>\n",
       "</table>\n",
       "</div>"
      ],
      "text/plain": [
       "           QfE_band     voted\n",
       "0   (24.999, 384.0]  1.600131\n",
       "1    (384.0, 465.0]  1.585200\n",
       "2    (465.0, 541.0]  1.558636\n",
       "3    (541.0, 622.0]  1.556831\n",
       "4    (622.0, 712.0]  1.543469\n",
       "5    (712.0, 823.0]  1.536972\n",
       "6    (823.0, 975.0]  1.517484\n",
       "7   (975.0, 1215.0]  1.518804\n",
       "8  (1215.0, 1731.0]  1.518120\n",
       "9  (1731.0, 1939.0]  1.532205"
      ]
     },
     "execution_count": 73,
     "metadata": {},
     "output_type": "execute_result"
    }
   ],
   "source": [
    "lower, upper, avg = outlier_iqr(train_df,'QfE')\n",
    "\n",
    "\n",
    "\n",
    "combine = [train_df, test_df]\n",
    "\n",
    "for dataset in combine:\n",
    "    dataset.loc[(dataset['QfE'] <= lower) | (dataset['QfE'] >=upper), 'QfE'] = upper\n",
    "    #dataset.loc[(dataset['QbE'] <= lower), 'QbE'] = lower\n",
    "    #dataset.loc[(dataset['QbE'] >=upper), 'QbE'] = upper\n",
    "\n",
    "    dataset['QfE'] = dataset['QfE'].astype(int)\n",
    "\n",
    "combine = [train_df, test_df]\n",
    "\n",
    "combine = [train_df, test_df]\n",
    "test_df['QfE'].fillna(test_df['QfE'].dropna().median(), inplace=True)\n",
    "train_df['QfE'].fillna(train_df['QfE'].dropna().median(), inplace=True)\n",
    "train_df['QfE_band'] = pd.qcut(train_df['QfE'], 10)\n",
    "train_df[['QfE_band', 'voted']].groupby(['QfE_band'], as_index=False).mean().sort_values(by='QfE_band', ascending=True)"
   ]
  },
  {
   "cell_type": "code",
   "execution_count": 74,
   "metadata": {},
   "outputs": [],
   "source": [
    "for dataset in combine:\n",
    "    dataset.loc[ dataset['QfE'] <= 384.0, 'QfE'] = 9\n",
    "    dataset.loc[(dataset['QfE'] > 384.0) & (dataset['QfE'] <= 465.0), 'QfE'] = 8\n",
    "    dataset.loc[(dataset['QfE'] > 465.0) & (dataset['QfE'] <=541.0), 'QfE'] = 7\n",
    "    dataset.loc[(dataset['QfE'] > 541.0) & (dataset['QfE'] <=622.0), 'QfE'] = 6\n",
    "    dataset.loc[(dataset['QfE'] > 622.0) & (dataset['QfE'] <=712.0), 'QfE'] = 5\n",
    "    dataset.loc[(dataset['QfE'] > 712.0) & (dataset['QfE'] <=823.0), 'QfE'] = 4\n",
    "    dataset.loc[(dataset['QfE'] > 823.0) & (dataset['QfE'] <=975.0), 'QfE'] = 3\n",
    "    dataset.loc[(dataset['QfE'] > 975.0) & (dataset['QfE'] <=1215.0), 'QfE'] = 2\n",
    "    dataset.loc[(dataset['QfE'] > 1215.0) & (dataset['QfE'] <=  1731.0), 'QfE'] = 1\n",
    "    dataset.loc[ dataset['QfE'] >   1731.0, 'QfE'] = 0\n",
    "    dataset['QfE'] = dataset['QfE'].astype(int)\n",
    "\n",
    "train_df = train_df.drop(['QfE_band'], axis=1)\n",
    "combine = [train_df, test_df]"
   ]
  },
  {
   "cell_type": "code",
   "execution_count": null,
   "metadata": {},
   "outputs": [],
   "source": []
  },
  {
   "cell_type": "code",
   "execution_count": null,
   "metadata": {},
   "outputs": [],
   "source": []
  },
  {
   "cell_type": "code",
   "execution_count": null,
   "metadata": {},
   "outputs": [],
   "source": []
  },
  {
   "cell_type": "code",
   "execution_count": null,
   "metadata": {},
   "outputs": [],
   "source": []
  },
  {
   "cell_type": "code",
   "execution_count": null,
   "metadata": {},
   "outputs": [],
   "source": []
  },
  {
   "cell_type": "code",
   "execution_count": null,
   "metadata": {},
   "outputs": [],
   "source": []
  },
  {
   "cell_type": "code",
   "execution_count": null,
   "metadata": {},
   "outputs": [],
   "source": []
  },
  {
   "cell_type": "code",
   "execution_count": null,
   "metadata": {},
   "outputs": [],
   "source": []
  },
  {
   "cell_type": "code",
   "execution_count": null,
   "metadata": {},
   "outputs": [],
   "source": []
  },
  {
   "cell_type": "code",
   "execution_count": null,
   "metadata": {},
   "outputs": [],
   "source": []
  },
  {
   "cell_type": "code",
   "execution_count": null,
   "metadata": {},
   "outputs": [],
   "source": []
  },
  {
   "cell_type": "code",
   "execution_count": null,
   "metadata": {},
   "outputs": [],
   "source": []
  },
  {
   "cell_type": "code",
   "execution_count": 75,
   "metadata": {},
   "outputs": [],
   "source": [
    "Y_train = train_df[\"voted\"]"
   ]
  },
  {
   "cell_type": "markdown",
   "metadata": {},
   "source": [
    "## 정규화 및 표준화"
   ]
  },
  {
   "cell_type": "markdown",
   "metadata": {},
   "source": [
    "#### 정규화의 목적 : 데이터 셋의 numerical value 범위의 차이를 왜곡하지 않고 공통 척도로 변경하는 것\n",
    "* 모든 데이터 셋이 정규화 될 필요는 없고, 피처의 범위가 다른 경우에만 필요하다.\n",
    "* 정규화는 특성 벡터의 길이는 상관 없고 데이터의 방향만이 중요할 때 많이 사용된다."
   ]
  },
  {
   "cell_type": "markdown",
   "metadata": {},
   "source": [
    "* Normalization\n",
    "    * 스케일링 시 최대, 최소값이 사용됨\n",
    "    * 피처의 크기가 다를 때 사용\n",
    "    * [0,1] 또는 [-1,1] 사이의 값으로 스케일링\n",
    "    * 분포에 대해 모를 때 유용\n",
    "    * MinMaxScaler, Normalizer\n",
    "* Standardization\n",
    "    * 스케일링 시 평균과 표준편차가 사용\n",
    "    * 평균이 0, 표준편차가 1인 것을 확인하고 싶을 때 사용\n",
    "    * 특정 범위로 제한되지 않음\n",
    "    * 피처가 정규분포(가우시안 분표)인 경우 유용\n",
    "    * StandarScaler, RobustScaler"
   ]
  },
  {
   "cell_type": "markdown",
   "metadata": {},
   "source": [
    "* 정규화와 표준화가 필요한 순간 -> 명확한 답은 없다\n",
    "    * 통상적으로 -> 표준화를 통해 이상치를 제거하고, 그 다음 데이터를 정규화 해 상대적 크기에 대한 영향력을 줄인 다음 분석을 시작\n",
    "    * 기준을 설정하고 그 기준내에서 각 데이터들을 평가하기 때문에 비교가 편함\n",
    "    * scale의 범위가 너무 크면 노이즈 데이터가 생성되거나 overfitting이 될 가능성이 높아짐"
   ]
  },
  {
   "cell_type": "markdown",
   "metadata": {},
   "source": []
  },
  {
   "cell_type": "code",
   "execution_count": null,
   "metadata": {},
   "outputs": [],
   "source": []
  },
  {
   "cell_type": "code",
   "execution_count": 76,
   "metadata": {},
   "outputs": [
    {
     "data": {
      "text/plain": [
       "'scaler = StandardScaler()\\nscaler.fit(train_df)\\n\\ntrain_scaled = scaler.transform(train_df) \\n\\ntrind_scaled_df = pd.DataFrame(train_scaled, columns=train_df.columns)\\ntrain_df = trind_scaled_df\\n\\nscaler.fit(test_df)\\n\\ntest_scaled = scaler.transform(test_df) \\n\\ntest_scaled_df = pd.DataFrame(test_scaled, columns=test_df.columns)\\ntest_df = test_scaled_df'"
      ]
     },
     "execution_count": 76,
     "metadata": {},
     "output_type": "execute_result"
    }
   ],
   "source": [
    "\"\"\"scaler = StandardScaler()\n",
    "scaler.fit(train_df)\n",
    "\n",
    "train_scaled = scaler.transform(train_df) \n",
    "\n",
    "trind_scaled_df = pd.DataFrame(train_scaled, columns=train_df.columns)\n",
    "train_df = trind_scaled_df\n",
    "\n",
    "scaler.fit(test_df)\n",
    "\n",
    "test_scaled = scaler.transform(test_df) \n",
    "\n",
    "test_scaled_df = pd.DataFrame(test_scaled, columns=test_df.columns)\n",
    "test_df = test_scaled_df\"\"\""
   ]
  },
  {
   "cell_type": "markdown",
   "metadata": {},
   "source": [
    "## 학습"
   ]
  },
  {
   "cell_type": "code",
   "execution_count": 77,
   "metadata": {},
   "outputs": [
    {
     "data": {
      "text/plain": [
       "'random_forest = RandomForestClassifier(n_estimators=100)\\nrandom_forest.fit(X_train, Y_train)\\nY_pred = random_forest.predict(X_test)\\nrandom_forest.score(X_train, Y_train)\\nacc_random_forest = round(random_forest.score(X_train, Y_train) * 100, 2)\\nacc_random_forest'"
      ]
     },
     "execution_count": 77,
     "metadata": {},
     "output_type": "execute_result"
    }
   ],
   "source": [
    "from sklearn.linear_model import LogisticRegression\n",
    "from sklearn.svm import SVC, LinearSVC\n",
    "from sklearn.ensemble import RandomForestClassifier\n",
    "from sklearn.neighbors import KNeighborsClassifier\n",
    "from sklearn.naive_bayes import GaussianNB\n",
    "from sklearn.linear_model import Perceptron\n",
    "from sklearn.linear_model import SGDClassifier\n",
    "from sklearn.tree import DecisionTreeClassifier\n",
    "\n",
    "\n",
    "train_df = train_df.astype('int')\n",
    "test_df = test_df.astype('int')\n",
    "\n",
    "\n",
    "X_train = train_df.drop(\"voted\", axis = 1)\n",
    "X_test  = test_df.drop(\"index\", axis=1).copy()\n",
    "X_train.shape, Y_train.shape, X_test.shape\n",
    "\n",
    "\n",
    "\n",
    "\n",
    "\"\"\"decision_tree = DecisionTreeClassifier()\n",
    "decision_tree.fit(X_train, Y_train)\n",
    "Y_pred = decision_tree.predict(X_test)\n",
    "acc_decision_tree = round(decision_tree.score(X_train, Y_train) * 100, 2)\n",
    "acc_decision_tree\n",
    "\n",
    "\n",
    "\n",
    "gaussian = GaussianNB()\n",
    "gaussian.fit(X_train, Y_train)\n",
    "Y_pred = gaussian.predict(X_test)\n",
    "acc_gaussian = round(gaussian.score(X_train, Y_train) * 100, 2)\n",
    "acc_gaussian\"\"\"\n",
    "\n",
    "\"\"\"random_forest = RandomForestClassifier(n_estimators=100)\n",
    "random_forest.fit(X_train, Y_train)\n",
    "Y_pred = random_forest.predict(X_test)\n",
    "random_forest.score(X_train, Y_train)\n",
    "acc_random_forest = round(random_forest.score(X_train, Y_train) * 100, 2)\n",
    "acc_random_forest\"\"\""
   ]
  },
  {
   "cell_type": "markdown",
   "metadata": {},
   "source": [
    "# 분류 모델\n",
    "* 이진 분류 - 출력하는 타깃 클래스가 두 개뿐인 학습 작업\n",
    "* 다중 범주 문제 - 세 가지 이상의 타깃 클래스가 있는 문제\n",
    "\n",
    "-------------------------------------------------------------------------------------\n",
    "\n",
    "* scikit-learn - 기계 학습 오픈 소스 라이브러리 : 아나콘다에서 기본적으로 제공한다\n",
    "    * 지도 학습 - 서포트 벡터 머신, 나이브 베이즈(Naïve Bayes), 결정 트리(Decision Tree)\n",
    "    * 비지도 학습 - 군집화, 이상치 검출\n",
    "\n",
    "    * 모델 선택 및 평가 - 교차 검증(cross-validation), 파이프라인(pipeline)\n",
    "    * 데이터 변환 - 속성 추출(Feature Extraction), 전처리(Preprocessing)"
   ]
  },
  {
   "cell_type": "markdown",
   "metadata": {},
   "source": [
    "## 1. K-NN  : K-Nearest Neighbors\n",
    "* 알려진 범주로 알려지지 않은 범주 분류\n",
    "* 기존의 범주가 존재해야 함\n",
    "* 결측치(NA) 및 이상치 전처리 중요\n",
    "* 많은 특징을 갖는 데이터 셋은 부적합\n",
    "* 유클리드 거리 게산식 이용 -> 가장 유사한 범주를 가장 가까운 거리를 통해 선택\n",
    "    * 적용 분야 : 개인별 영화 추천, 이미지/비디오에서 얼굴 또는 글자 인식, 유전자 데이터 패턴 식별"
   ]
  },
  {
   "cell_type": "markdown",
   "metadata": {},
   "source": [
    "## 2. NB : Naive Bayes\n",
    "* 통계적 분류기\n",
    "* 주어진 데이터가 특정 클래스에 속하는지를 확률을 통해서 예측 -> 조건부 확률 이용\n",
    "* 베이즈 확률 정리를 적용한 기계학습 방법 -> 사전/사후 확률 사이의 관계를 나타낸 이론\n",
    "* 특정 영역에서는 DT나 KNN 분류기보다 성능이 우수\n",
    "* 텍스트 데이터처럼 희소한 고차원인 경우 높은 정확도와 속도 제공\n",
    "    * 적용 분야 : 스팸 메일 분류, 문서(주제) 분류, 비 유무 예측, 컴퓨터 네트워크 상 침입자 분류(악성코드 유무)"
   ]
  },
  {
   "cell_type": "markdown",
   "metadata": {},
   "source": [
    "## 3. SVM : Support Vector Machine\n",
    "* SVM 알고리즘 : 가상의 직선을 중심으로 거리를 계산하여 최대의 직사각형 형태로 영역을 넓힌다. -> margin을 최대로 만드는 알고리즘\n",
    "* 이진 분류 : 두 범주를 직선으로 분류 / 선형 분리 : 두 개의 집합을 직선으로 분리\n",
    "* KNN + 선형 회귀 모델링 기법 = 분류와 수치 예측 가능\n",
    "* 비선형 분류를 위해서 데이터의 차원을 고차원으로 변경하여 직선으로 분리 = 커널 트릭\n",
    "    * 커널 트릭 : 비선형 관계를 선형으로 변환하는 역할\n",
    "    * 커널 트릭에 사용되는 커널 함수 : linear(Gaussian), polynomial radial, sigmoid\n",
    "* 다양한 데이터 셋에서 잘 동작하는 강력한 모델\n",
    "* 데이터의 특징이 적어도 복잡한 결정 경계 생성 -> 모든 특징과 스케일이 비슷한 경우에 유리함\n",
    "* 샘플(관측치)이 많은 경우 불리함 (100,000개 이상)\n",
    "\n",
    "    * 적용 분야 : 바이오인포매틱스의 마이크로 유전자 데이터 분류, 인간의 얼굴/ 문자/ 숫자 인식- 이미지 데이터 패턴 인식에 적합"
   ]
  },
  {
   "cell_type": "markdown",
   "metadata": {},
   "source": [
    "* 참고 자료 : https://joyfuls.tistory.com/60"
   ]
  },
  {
   "cell_type": "code",
   "execution_count": null,
   "metadata": {},
   "outputs": [],
   "source": []
  },
  {
   "cell_type": "code",
   "execution_count": 78,
   "metadata": {},
   "outputs": [],
   "source": [
    "from sklearn.linear_model import LinearRegression"
   ]
  },
  {
   "cell_type": "code",
   "execution_count": 79,
   "metadata": {},
   "outputs": [],
   "source": [
    "import math"
   ]
  },
  {
   "cell_type": "code",
   "execution_count": 80,
   "metadata": {},
   "outputs": [
    {
     "data": {
      "text/plain": [
       "100.0"
      ]
     },
     "execution_count": 80,
     "metadata": {},
     "output_type": "execute_result"
    }
   ],
   "source": [
    "random_forest = RandomForestClassifier(n_estimators=100)\n",
    "random_forest.fit(X_train, Y_train)\n",
    "Y_pred = random_forest.predict(X_test)\n",
    "random_forest.score(X_train, Y_train)\n",
    "acc_random_forest = round(random_forest.score(X_train, Y_train) * 100, 2)\n",
    "acc_random_forest"
   ]
  },
  {
   "cell_type": "code",
   "execution_count": 81,
   "metadata": {},
   "outputs": [
    {
     "data": {
      "text/plain": [
       "18.74"
      ]
     },
     "execution_count": 81,
     "metadata": {},
     "output_type": "execute_result"
    }
   ],
   "source": [
    "model=LinearRegression()\n",
    "# random_state is an arbitrary number.\n",
    "model.fit(X_train, Y_train)\n",
    "predictions=model.predict(X_test)\n",
    "\n",
    "Y_pred_linear = np.round(predictions, 0)\n",
    "\n",
    "acc_linear = round(model.score(X_train, Y_train) * 100, 2)\n",
    "acc_linear"
   ]
  },
  {
   "cell_type": "code",
   "execution_count": 82,
   "metadata": {},
   "outputs": [
    {
     "data": {
      "text/plain": [
       "29.18"
      ]
     },
     "execution_count": 82,
     "metadata": {},
     "output_type": "execute_result"
    }
   ],
   "source": [
    "import xgboost as xgb\n",
    "\n",
    "# 모델 선언\n",
    "my_model = xgb.XGBRegressor(learning_rate=0.1,max_depth=5,n_estimators=100)\n",
    "\n",
    "# 모델 훈련\n",
    "my_model.fit(X_train, Y_train, verbose=False)\n",
    "\n",
    "# 모델 예측\n",
    "y_pred_xgb = my_model.predict(X_test)\n",
    "\n",
    "acc_xgb = round(my_model.score(X_train, Y_train) * 100, 2)\n",
    "acc_xgb"
   ]
  },
  {
   "cell_type": "markdown",
   "metadata": {},
   "source": [
    "##### NB 모델 학습"
   ]
  },
  {
   "cell_type": "code",
   "execution_count": 83,
   "metadata": {},
   "outputs": [],
   "source": [
    "from sklearn.datasets import load_iris # dataset\n",
    "from sklearn.naive_bayes import GaussianNB # model 생성\n",
    "from sklearn.model_selection import train_test_split # train/test set\n",
    "from sklearn.metrics import accuracy_score, confusion_matrix # model 평가"
   ]
  },
  {
   "cell_type": "code",
   "execution_count": 84,
   "metadata": {},
   "outputs": [
    {
     "data": {
      "text/plain": [
       "46.1"
      ]
     },
     "execution_count": 84,
     "metadata": {},
     "output_type": "execute_result"
    }
   ],
   "source": [
    "model = GaussianNB()\n",
    "model.fit(X_train, Y_train)\n",
    "y_pred_NB = model.predict(X_test)\n",
    "\n",
    "acc_NB = round(model.score(X_train, Y_train) * 100, 2)\n",
    "acc_NB"
   ]
  },
  {
   "cell_type": "markdown",
   "metadata": {},
   "source": [
    "##### SVM 모델 학습"
   ]
  },
  {
   "cell_type": "code",
   "execution_count": 85,
   "metadata": {},
   "outputs": [],
   "source": [
    "from sklearn.datasets import load_iris # dataset\n",
    "from sklearn.svm import SVC # model 생성\n",
    "from sklearn.model_selection import train_test_split # train/test set\n",
    "from sklearn.metrics import accuracy_score, confusion_matrix # model 평가"
   ]
  },
  {
   "cell_type": "code",
   "execution_count": 86,
   "metadata": {},
   "outputs": [
    {
     "data": {
      "text/plain": [
       "54.73"
      ]
     },
     "execution_count": 86,
     "metadata": {},
     "output_type": "execute_result"
    }
   ],
   "source": [
    "\"\"\"train_df = train_df.astype('int')\n",
    "test_df = test_df.astype('int')\n",
    "\n",
    "\n",
    "X_train = train_df.drop(\"voted\", axis = 1)\n",
    "X_test  = test_df.drop(\"index\", axis=1).copy()\n",
    "X_train.shape, Y_train.shape, X_test.shape\"\"\"\n",
    "\n",
    "#help(SVC)\n",
    "model = SVC()\n",
    "model.fit(X_train, Y_train)\n",
    "y_pred_svm = model.predict(X_test)\n",
    "\n",
    "acc_svm = round(model.score(X_train, Y_train) * 100, 2)\n",
    "acc_svm"
   ]
  },
  {
   "cell_type": "code",
   "execution_count": null,
   "metadata": {},
   "outputs": [],
   "source": []
  },
  {
   "cell_type": "code",
   "execution_count": null,
   "metadata": {},
   "outputs": [],
   "source": []
  },
  {
   "cell_type": "code",
   "execution_count": 87,
   "metadata": {},
   "outputs": [
    {
     "data": {
      "text/plain": [
       "array([2, 2, 2, ..., 1, 1, 2], dtype=int64)"
      ]
     },
     "execution_count": 87,
     "metadata": {},
     "output_type": "execute_result"
    }
   ],
   "source": [
    "Y_pred"
   ]
  },
  {
   "cell_type": "markdown",
   "metadata": {},
   "source": [
    "### csv파일 만들기"
   ]
  },
  {
   "cell_type": "code",
   "execution_count": 88,
   "metadata": {},
   "outputs": [
    {
     "data": {
      "text/html": [
       "<div>\n",
       "<style scoped>\n",
       "    .dataframe tbody tr th:only-of-type {\n",
       "        vertical-align: middle;\n",
       "    }\n",
       "\n",
       "    .dataframe tbody tr th {\n",
       "        vertical-align: top;\n",
       "    }\n",
       "\n",
       "    .dataframe thead th {\n",
       "        text-align: right;\n",
       "    }\n",
       "</style>\n",
       "<table border=\"1\" class=\"dataframe\">\n",
       "  <thead>\n",
       "    <tr style=\"text-align: right;\">\n",
       "      <th></th>\n",
       "      <th>index</th>\n",
       "      <th>voted</th>\n",
       "    </tr>\n",
       "  </thead>\n",
       "  <tbody>\n",
       "    <tr>\n",
       "      <th>count</th>\n",
       "      <td>11383.000000</td>\n",
       "      <td>11383.000000</td>\n",
       "    </tr>\n",
       "    <tr>\n",
       "      <th>mean</th>\n",
       "      <td>5691.000000</td>\n",
       "      <td>1.054116</td>\n",
       "    </tr>\n",
       "    <tr>\n",
       "      <th>std</th>\n",
       "      <td>3286.133391</td>\n",
       "      <td>0.226256</td>\n",
       "    </tr>\n",
       "    <tr>\n",
       "      <th>min</th>\n",
       "      <td>0.000000</td>\n",
       "      <td>1.000000</td>\n",
       "    </tr>\n",
       "    <tr>\n",
       "      <th>25%</th>\n",
       "      <td>2845.500000</td>\n",
       "      <td>1.000000</td>\n",
       "    </tr>\n",
       "    <tr>\n",
       "      <th>50%</th>\n",
       "      <td>5691.000000</td>\n",
       "      <td>1.000000</td>\n",
       "    </tr>\n",
       "    <tr>\n",
       "      <th>75%</th>\n",
       "      <td>8536.500000</td>\n",
       "      <td>1.000000</td>\n",
       "    </tr>\n",
       "    <tr>\n",
       "      <th>max</th>\n",
       "      <td>11382.000000</td>\n",
       "      <td>2.000000</td>\n",
       "    </tr>\n",
       "  </tbody>\n",
       "</table>\n",
       "</div>"
      ],
      "text/plain": [
       "              index         voted\n",
       "count  11383.000000  11383.000000\n",
       "mean    5691.000000      1.054116\n",
       "std     3286.133391      0.226256\n",
       "min        0.000000      1.000000\n",
       "25%     2845.500000      1.000000\n",
       "50%     5691.000000      1.000000\n",
       "75%     8536.500000      1.000000\n",
       "max    11382.000000      2.000000"
      ]
     },
     "execution_count": 88,
     "metadata": {},
     "output_type": "execute_result"
    }
   ],
   "source": [
    "y_pred_NB\n",
    "submission = pd.read_csv('C:/Users/Kong/Desktop/이지민/AI/심리_성향_예측_AI/sample_submission.csv')\n",
    "submission['voted'] = y_pred_NB\n",
    "submission.describe()"
   ]
  },
  {
   "cell_type": "code",
   "execution_count": 89,
   "metadata": {},
   "outputs": [
    {
     "data": {
      "text/plain": [
       "\"submission.to_csv('pred_8_NB.csv',index=False)\""
      ]
     },
     "execution_count": 89,
     "metadata": {},
     "output_type": "execute_result"
    }
   ],
   "source": [
    "\"\"\"submission.to_csv('pred_8_NB.csv',index=False)\"\"\""
   ]
  }
 ],
 "metadata": {
  "kernelspec": {
   "display_name": "Python 3",
   "language": "python",
   "name": "python3"
  },
  "language_info": {
   "codemirror_mode": {
    "name": "ipython",
    "version": 3
   },
   "file_extension": ".py",
   "mimetype": "text/x-python",
   "name": "python",
   "nbconvert_exporter": "python",
   "pygments_lexer": "ipython3",
   "version": "3.8.5"
  }
 },
 "nbformat": 4,
 "nbformat_minor": 5
}
